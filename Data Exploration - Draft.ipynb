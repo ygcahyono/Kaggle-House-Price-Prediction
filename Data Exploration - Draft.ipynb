{
 "cells": [
  {
   "cell_type": "markdown",
   "id": "31780e5a",
   "metadata": {},
   "source": [
    "# Introduction"
   ]
  },
  {
   "cell_type": "markdown",
   "id": "4f764659",
   "metadata": {},
   "source": [
    "Notice a wrong prediction in the test set, all the result is negative LOL"
   ]
  },
  {
   "cell_type": "code",
   "execution_count": 1,
   "id": "048f5ba6",
   "metadata": {
    "ExecuteTime": {
     "end_time": "2023-01-15T19:15:30.460212Z",
     "start_time": "2023-01-15T19:15:29.392516Z"
    }
   },
   "outputs": [],
   "source": [
    "import pandas as pd\n",
    "import numpy as np\n",
    "import calendar\n",
    "pd.set_option('display.max_columns', 100)"
   ]
  },
  {
   "cell_type": "markdown",
   "id": "a675a04b",
   "metadata": {},
   "source": [
    "## Function"
   ]
  },
  {
   "cell_type": "markdown",
   "id": "7aa9ea7e",
   "metadata": {},
   "source": [
    "### Preprocessing Data"
   ]
  },
  {
   "cell_type": "code",
   "execution_count": 2,
   "id": "baeb3b44",
   "metadata": {
    "ExecuteTime": {
     "end_time": "2023-01-15T19:15:30.485658Z",
     "start_time": "2023-01-15T19:15:30.465215Z"
    }
   },
   "outputs": [],
   "source": [
    "def X_preprocessing(df):\n",
    "    \n",
    "    # checking resposne variable\n",
    "    if 'SalePrice' not in df:\n",
    "        column_interval_dup = column_interval.copy()\n",
    "        column_interval_dup.remove('SalePrice')\n",
    "        \n",
    "    # drop useless column \"id\"\n",
    "    df = df.drop('Id', axis=1)\n",
    "    \n",
    "    df_nominal = df[column_nominal].copy()\n",
    "    df_interval = df[column_interval_dup].copy()\n",
    "\n",
    "    # preprocessing on interval dataframe\n",
    "    ## simple null value imputation: interval to 0\n",
    "    ## concat to the actual table\n",
    "    df_interval = df_interval.fillna(0)\n",
    "    df = df.drop(column_interval_dup, axis=1)\n",
    "    df = pd.concat([df, df_interval], axis=1)\n",
    "\n",
    "    # binary data convesion\n",
    "    df['CentralAir'] = df[column_binary]['CentralAir'].apply(lambda x: 1 if x == 'Y' else 0)\n",
    "\n",
    "    # preprocessing on nonimal dataframe\n",
    "    ## simple null value imputation: categorical to NaN\n",
    "    df_nominal = df_nominal.drop(col_major_missing, axis = 1)\n",
    "    df_nominal = df_nominal.fillna(nominal_mode)\n",
    "    \n",
    "\n",
    "    ## convert MSSubClass value to string\n",
    "    df_nominal['MSSubClass'] = df_nominal['MSSubClass'].astype('string')\n",
    "    df_nominal['MSSubClass'] = df_nominal['MSSubClass'].apply(lambda x: 'MSSC_'+x)\n",
    "\n",
    "    ## all set, convert all the categorical variable to dummies variables\n",
    "    df_nominal = pd.get_dummies(df_nominal)\n",
    "\n",
    "    ## concat to the actual table\n",
    "    df = df.drop(column_nominal, axis=1)\n",
    "    df = pd.concat([df, df_nominal], axis=1)\n",
    "\n",
    "    # preprocessing on time dataframe\n",
    "    ## time approach-renovation: comparing to the year built\n",
    "    ## time approach-soldyear: comparing to the year built\n",
    "    df['YearRemodAdd'] = df[column_time]['YearRemodAdd'] - df[column_time]['YearBuilt'] \n",
    "    df['YrSold'] = df[column_time]['YrSold'] - df[column_time]['YearBuilt']\n",
    "\n",
    "    ## time approach-built: comparing to the oldest listing on the market\n",
    "    df_yrbuilt_min = df[column_time]['YearBuilt'].min()\n",
    "    df['YearBuilt'] = df[column_time]['YearBuilt'].apply(lambda x: x - df_yrbuilt_min)\n",
    "\n",
    "    ## time apprach-soldmonth: to dummies variable\n",
    "    df['MoSold'] = df['MoSold'].apply(lambda x: 'sold_'+calendar.month_name[x])\n",
    "    df_dum_months = pd.get_dummies(df['MoSold'])\n",
    "    df = df.drop(['MoSold'], axis=1)\n",
    "\n",
    "    df = pd.concat([df,df_dum_months], axis=1)\n",
    "\n",
    "    if 'SalePrice' in df:\n",
    "    # final to split between dependent variable to resposne\n",
    "        X = df.drop('SalePrice', axis=1)\n",
    "        y = df['SalePrice']\n",
    "\n",
    "    else:\n",
    "        print('This is test dataset return only X...')\n",
    "        X = df.copy()\n",
    "        y = None\n",
    "\n",
    "    return X, y"
   ]
  },
  {
   "cell_type": "markdown",
   "id": "57b3f241",
   "metadata": {},
   "source": [
    "## Import data(s)"
   ]
  },
  {
   "cell_type": "code",
   "execution_count": 3,
   "id": "013d4a53",
   "metadata": {
    "ExecuteTime": {
     "end_time": "2023-01-15T19:15:30.724880Z",
     "start_time": "2023-01-15T19:15:30.678986Z"
    }
   },
   "outputs": [],
   "source": [
    "train_df = pd.read_csv('data/train.csv')\n",
    "df_cols_process = pd.read_csv('data/column_types_and_process_imputation.csv')"
   ]
  },
  {
   "cell_type": "markdown",
   "id": "5df13964",
   "metadata": {},
   "source": [
    "## Data Exploration"
   ]
  },
  {
   "cell_type": "markdown",
   "id": "0c7587ca",
   "metadata": {},
   "source": [
    "-> Numerical - Categorical (two general groups) <- \n",
    "\n",
    "- Useless (unique identifier usually useless)\n",
    "- Nominal (as named or categorical)\n",
    "- Binary (either 1/0)\n",
    "- Ordinal (Ordinal)\n",
    "- Count (Integer number starting from 0 exclude negative number)\n",
    "- Time (consiting seasonal and date)\n",
    "- Interval (Examples include percentages, temperatures, and income.)"
   ]
  },
  {
   "cell_type": "code",
   "execution_count": 4,
   "id": "b66fe1d0",
   "metadata": {
    "ExecuteTime": {
     "end_time": "2023-01-15T19:15:31.241524Z",
     "start_time": "2023-01-15T19:15:31.234084Z"
    }
   },
   "outputs": [],
   "source": [
    "df_cols_process['data types'] = df_cols_process['data types'].apply(lambda x: x.strip())"
   ]
  },
  {
   "cell_type": "code",
   "execution_count": 5,
   "id": "83d0ea97",
   "metadata": {
    "ExecuteTime": {
     "end_time": "2023-01-15T19:15:31.450257Z",
     "start_time": "2023-01-15T19:15:31.428715Z"
    }
   },
   "outputs": [
    {
     "data": {
      "text/plain": [
       "array(['useless', 'nominal', 'interval', 'ordinal', 'time', 'binary'],\n",
       "      dtype=object)"
      ]
     },
     "execution_count": 5,
     "metadata": {},
     "output_type": "execute_result"
    }
   ],
   "source": [
    "df_cols_process['data types'].unique()"
   ]
  },
  {
   "cell_type": "code",
   "execution_count": 6,
   "id": "4859b79f",
   "metadata": {
    "ExecuteTime": {
     "end_time": "2023-01-15T19:15:31.857570Z",
     "start_time": "2023-01-15T19:15:31.845121Z"
    }
   },
   "outputs": [],
   "source": [
    "column_interval = list(df_cols_process[df_cols_process['data types'] == 'interval']['column']) # no need processing\n",
    "column_nominal = list(df_cols_process[df_cols_process['data types'] == 'nominal']['column']) \n",
    "column_ordinal = list(df_cols_process[df_cols_process['data types'] == 'ordinal']['column']) # no need processing\n",
    "column_binary = list(df_cols_process[df_cols_process['data types'] == 'binary']['column'])\n",
    "column_time = list(df_cols_process[df_cols_process['data types'] == 'time']['column'])"
   ]
  },
  {
   "cell_type": "markdown",
   "id": "10e348cf",
   "metadata": {},
   "source": [
    "## Data Pre-processing"
   ]
  },
  {
   "cell_type": "markdown",
   "id": "7953738b",
   "metadata": {},
   "source": [
    "### Drop useless data types"
   ]
  },
  {
   "cell_type": "code",
   "execution_count": 8,
   "id": "ffc9cf6c",
   "metadata": {
    "ExecuteTime": {
     "end_time": "2023-01-15T19:03:05.866771Z",
     "start_time": "2023-01-15T19:03:05.861785Z"
    }
   },
   "outputs": [],
   "source": [
    "# from sklearn.preprocessing import LabelEncoder\n",
    "# le = LabelEncoder()\n",
    "# from sklearn.preprocessing import OrdinalEncoder"
   ]
  },
  {
   "cell_type": "code",
   "execution_count": 7,
   "id": "e7bf936e",
   "metadata": {
    "ExecuteTime": {
     "end_time": "2023-01-15T19:15:37.215117Z",
     "start_time": "2023-01-15T19:15:37.203819Z"
    }
   },
   "outputs": [],
   "source": [
    "train_df_temp = train_df.drop('Id',axis = 1).copy()"
   ]
  },
  {
   "cell_type": "code",
   "execution_count": 8,
   "id": "6c2cdf51",
   "metadata": {
    "ExecuteTime": {
     "end_time": "2023-01-15T19:15:37.368289Z",
     "start_time": "2023-01-15T19:15:37.357202Z"
    }
   },
   "outputs": [],
   "source": [
    "train_df_nominal = train_df_temp[column_nominal].copy()\n",
    "train_df_interval = train_df_temp[column_interval].copy()"
   ]
  },
  {
   "cell_type": "markdown",
   "id": "c6e8cee6",
   "metadata": {},
   "source": [
    "### Data Imputation"
   ]
  },
  {
   "cell_type": "markdown",
   "id": "9ed79fa8",
   "metadata": {},
   "source": [
    "#### Nominal"
   ]
  },
  {
   "cell_type": "code",
   "execution_count": 9,
   "id": "e3913552",
   "metadata": {
    "ExecuteTime": {
     "end_time": "2023-01-15T19:15:41.508983Z",
     "start_time": "2023-01-15T19:15:41.456420Z"
    }
   },
   "outputs": [],
   "source": [
    "# build an array for removing nominal columns that have missinv value more than 30%.\n",
    "col_major_missing = np.array(train_df_nominal.columns[train_df_nominal.isnull().sum()/train_df_nominal.shape[0] > 0.30])\n",
    "\n",
    "# drop it\n",
    "train_df_nominal = train_df_nominal.drop(col_major_missing, axis=1)\n",
    "\n",
    "# assign mode to a variable \"nominal mode\".\n",
    "nominal_mode = train_df_nominal.mode().iloc[0]\n",
    "\n",
    "# simple null value imputation: Mode\n",
    "train_df_nominal = train_df_nominal.fillna(nominal_mode)"
   ]
  },
  {
   "cell_type": "markdown",
   "id": "0afe2619",
   "metadata": {},
   "source": [
    "#### Interval "
   ]
  },
  {
   "cell_type": "code",
   "execution_count": 10,
   "id": "3421690d",
   "metadata": {
    "ExecuteTime": {
     "end_time": "2023-01-15T19:15:42.869488Z",
     "start_time": "2023-01-15T19:15:42.865320Z"
    }
   },
   "outputs": [],
   "source": [
    "# simple null value imputation: interval to 0\n",
    "train_df_interval = train_df_interval.fillna(0)"
   ]
  },
  {
   "cell_type": "code",
   "execution_count": 11,
   "id": "8b4bc0f0",
   "metadata": {
    "ExecuteTime": {
     "end_time": "2023-01-15T19:15:43.372999Z",
     "start_time": "2023-01-15T19:15:43.357722Z"
    }
   },
   "outputs": [],
   "source": [
    "train_df_temp = train_df_temp.drop(column_interval, axis=1)\n",
    "train_df_temp = pd.concat([train_df_temp, train_df_interval], axis=1)"
   ]
  },
  {
   "cell_type": "markdown",
   "id": "39116379",
   "metadata": {},
   "source": [
    "### Nominal data to Dummies"
   ]
  },
  {
   "cell_type": "code",
   "execution_count": 12,
   "id": "2ac8dac4",
   "metadata": {
    "ExecuteTime": {
     "end_time": "2023-01-15T19:15:45.454971Z",
     "start_time": "2023-01-15T19:15:45.438797Z"
    }
   },
   "outputs": [],
   "source": [
    "train_df_nominal['MSSubClass'] = train_df_nominal['MSSubClass'].astype('string')\n",
    "train_df_nominal['MSSubClass'] = train_df_nominal['MSSubClass'].apply(lambda x: 'MSSC_'+x)"
   ]
  },
  {
   "cell_type": "code",
   "execution_count": 13,
   "id": "6ad351da",
   "metadata": {
    "ExecuteTime": {
     "end_time": "2023-01-15T19:15:46.969554Z",
     "start_time": "2023-01-15T19:15:46.887738Z"
    }
   },
   "outputs": [],
   "source": [
    "# from 43 to 281 columns\n",
    "train_df_nominal = pd.get_dummies(train_df_nominal)"
   ]
  },
  {
   "cell_type": "code",
   "execution_count": 14,
   "id": "1d5dbea8",
   "metadata": {
    "ExecuteTime": {
     "end_time": "2023-01-15T19:15:49.771059Z",
     "start_time": "2023-01-15T19:15:49.752059Z"
    }
   },
   "outputs": [],
   "source": [
    "train_df_temp = train_df_temp.drop(column_nominal, axis=1)\n",
    "train_df_temp = pd.concat([train_df_temp, train_df_nominal], axis=1)"
   ]
  },
  {
   "cell_type": "markdown",
   "id": "9b68c34f",
   "metadata": {},
   "source": [
    "### Change the value of binary data"
   ]
  },
  {
   "cell_type": "code",
   "execution_count": 15,
   "id": "3f9e9ba3",
   "metadata": {
    "ExecuteTime": {
     "end_time": "2023-01-15T19:15:51.525950Z",
     "start_time": "2023-01-15T19:15:51.509762Z"
    }
   },
   "outputs": [],
   "source": [
    "train_df_temp['CentralAir'] = train_df_temp[column_binary]['CentralAir'].apply(lambda x: 1 if x == 'Y' else 0)"
   ]
  },
  {
   "cell_type": "markdown",
   "id": "af028b48",
   "metadata": {},
   "source": [
    "### Change the value of time data"
   ]
  },
  {
   "cell_type": "code",
   "execution_count": 16,
   "id": "f66b0c53",
   "metadata": {
    "ExecuteTime": {
     "end_time": "2023-01-15T19:15:54.183980Z",
     "start_time": "2023-01-15T19:15:54.159411Z"
    }
   },
   "outputs": [],
   "source": [
    "# unique approach on how to process the time data\n",
    "train_df_temp['YearRemodAdd'] = train_df_temp[column_time]['YearRemodAdd'] - train_df_temp[column_time]['YearBuilt']\n",
    "train_df_temp['YrSold'] = train_df_temp[column_time]['YrSold'] - train_df_temp[column_time]['YearBuilt']\n",
    "\n",
    "train_df_temp_yrbuilt_min = train_df_temp[column_time]['YearBuilt'].min()\n",
    "train_df_temp['YearBuilt'] = train_df_temp[column_time]['YearBuilt'].apply(lambda x: x - train_df_temp_yrbuilt_min)"
   ]
  },
  {
   "cell_type": "code",
   "execution_count": 17,
   "id": "07a92fc2",
   "metadata": {
    "ExecuteTime": {
     "end_time": "2023-01-15T19:16:00.964723Z",
     "start_time": "2023-01-15T19:16:00.934455Z"
    }
   },
   "outputs": [],
   "source": [
    "# turn YrSold compare to Yr Built.\n",
    "train_df_temp['MoSold'] = train_df_temp['MoSold'].apply(lambda x: 'sold_'+calendar.month_name[x])\n",
    "train_df_temp_dum_months = pd.get_dummies(train_df_temp['MoSold'])\n",
    "train_df_temp = train_df_temp.drop(['MoSold'], axis=1)\n",
    "\n",
    "train_df_temp = pd.concat([train_df_temp,train_df_temp_dum_months], axis=1)"
   ]
  },
  {
   "cell_type": "markdown",
   "id": "efd558d1",
   "metadata": {},
   "source": [
    "## Define Dependent and Response Data of Training"
   ]
  },
  {
   "cell_type": "code",
   "execution_count": 18,
   "id": "383cfa10",
   "metadata": {
    "ExecuteTime": {
     "end_time": "2023-01-15T19:16:03.799898Z",
     "start_time": "2023-01-15T19:16:03.789330Z"
    }
   },
   "outputs": [],
   "source": [
    "X_train = train_df_temp.drop('SalePrice', axis=1)\n",
    "Y_train = train_df_temp['SalePrice']"
   ]
  },
  {
   "cell_type": "markdown",
   "id": "4bcb020a",
   "metadata": {},
   "source": [
    "---"
   ]
  },
  {
   "cell_type": "markdown",
   "id": "b6d7887e",
   "metadata": {},
   "source": [
    "## Feature Scalling"
   ]
  },
  {
   "cell_type": "markdown",
   "id": "ded0479d",
   "metadata": {},
   "source": [
    "### Z-score"
   ]
  },
  {
   "cell_type": "code",
   "execution_count": 19,
   "id": "6e21a22f",
   "metadata": {
    "ExecuteTime": {
     "end_time": "2023-01-15T19:16:07.650584Z",
     "start_time": "2023-01-15T19:16:06.944929Z"
    }
   },
   "outputs": [],
   "source": [
    "# Zscore using SKLearn\n",
    "\n",
    "from sklearn.preprocessing import scale\n",
    "# scale(X_orig, axis=0, with_mean=True, with_std=True, copy=True)\n",
    "\n",
    "def zscore_normalize_features(X, mu = False, sigma = False):\n",
    "    \"\"\"\n",
    "    computes  X, zcore normalized by column\n",
    "    \n",
    "    Args:\n",
    "      X (ndarray (m,n))     : input data, m examples, n features\n",
    "      \n",
    "    Returns:\n",
    "      X_norm (ndarray (m,n)): input normalized by column\n",
    "      mu (ndarray (n,))     : mean of each feature\n",
    "      sigma (ndarray (n,))  : standard deviation of each feature\n",
    "    \"\"\"\n",
    "    \n",
    "    if (mu is False) and (sigma is False):\n",
    "        # find the mean of each column/feature\n",
    "        mu     = np.mean(X, axis=0)                 # mu will have shape (n,)\n",
    "        # find the standard deviation of each column/feature\n",
    "        sigma  = np.std(X, axis=0)                  # sigma will have shape (n,)\n",
    "        # element-wise, subtract mu for that column from each example, divide by std for that column\n",
    "        \n",
    "    X_norm = (X - mu) / sigma      \n",
    "\n",
    "    return (X_norm, mu, sigma)"
   ]
  },
  {
   "cell_type": "code",
   "execution_count": 20,
   "id": "97c72e6c",
   "metadata": {
    "ExecuteTime": {
     "end_time": "2023-01-15T19:16:09.849537Z",
     "start_time": "2023-01-15T19:16:09.819227Z"
    }
   },
   "outputs": [],
   "source": [
    "# using SKLearn\n",
    "# X_norm = scale(X_train, with_mean = True, with_std = True, copy = True)\n",
    "X_train_scale, mu, sigma = zscore_normalize_features(X_train)"
   ]
  },
  {
   "cell_type": "code",
   "execution_count": 21,
   "id": "b45e9ce5",
   "metadata": {
    "ExecuteTime": {
     "end_time": "2023-01-15T19:16:18.498372Z",
     "start_time": "2023-01-15T19:16:18.445819Z"
    }
   },
   "outputs": [],
   "source": [
    "from sklearn.preprocessing import StandardScaler\n",
    "\n",
    "scaler = StandardScaler().fit(X_train)\n",
    "X_train_scale = scaler.transform(X_train)\n",
    "X_train_scale = pd.DataFrame(X_train_scale, columns = X_train.columns)"
   ]
  },
  {
   "cell_type": "markdown",
   "id": "bdc715f7",
   "metadata": {},
   "source": [
    "## Fitting Linear Regression"
   ]
  },
  {
   "cell_type": "code",
   "execution_count": 22,
   "id": "44460557",
   "metadata": {
    "ExecuteTime": {
     "end_time": "2023-01-15T19:16:46.543410Z",
     "start_time": "2023-01-15T19:16:46.447437Z"
    }
   },
   "outputs": [],
   "source": [
    "from sklearn.linear_model import LinearRegression\n",
    "linear_model = LinearRegression()"
   ]
  },
  {
   "cell_type": "code",
   "execution_count": 23,
   "id": "a19fdfad",
   "metadata": {
    "ExecuteTime": {
     "end_time": "2023-01-15T19:16:47.359175Z",
     "start_time": "2023-01-15T19:16:47.285219Z"
    }
   },
   "outputs": [
    {
     "data": {
      "text/plain": [
       "LinearRegression()"
      ]
     },
     "execution_count": 23,
     "metadata": {},
     "output_type": "execute_result"
    }
   ],
   "source": [
    "X_train_arr = np.array(X_train_scale)\n",
    "linear_model.fit(X_train_arr, Y_train)"
   ]
  },
  {
   "cell_type": "code",
   "execution_count": 24,
   "id": "0a167475",
   "metadata": {
    "ExecuteTime": {
     "end_time": "2023-01-15T19:16:52.030860Z",
     "start_time": "2023-01-15T19:16:52.019930Z"
    }
   },
   "outputs": [],
   "source": [
    "Y_train_pred = linear_model.predict(X_train_arr)"
   ]
  },
  {
   "cell_type": "code",
   "execution_count": null,
   "id": "92a89d70",
   "metadata": {},
   "outputs": [],
   "source": []
  },
  {
   "cell_type": "code",
   "execution_count": 51,
   "id": "f5fc5159",
   "metadata": {
    "ExecuteTime": {
     "end_time": "2023-01-15T19:25:37.502075Z",
     "start_time": "2023-01-15T19:25:37.492897Z"
    }
   },
   "outputs": [],
   "source": [
    "from sklearn.ensemble import RandomForestRegressor"
   ]
  },
  {
   "cell_type": "code",
   "execution_count": 53,
   "id": "117a6efd",
   "metadata": {
    "ExecuteTime": {
     "end_time": "2023-01-15T19:25:58.672924Z",
     "start_time": "2023-01-15T19:25:56.336301Z"
    }
   },
   "outputs": [
    {
     "data": {
      "text/plain": [
       "RandomForestRegressor()"
      ]
     },
     "execution_count": 53,
     "metadata": {},
     "output_type": "execute_result"
    }
   ],
   "source": [
    "random_forest = RandomForestRegressor()\n",
    "random_forest.fit(X_train_arr, Y_train)"
   ]
  },
  {
   "cell_type": "code",
   "execution_count": 54,
   "id": "536efb2c",
   "metadata": {
    "ExecuteTime": {
     "end_time": "2023-01-15T19:26:19.027289Z",
     "start_time": "2023-01-15T19:26:18.962245Z"
    }
   },
   "outputs": [],
   "source": [
    "Y_train_pred = random_forest.predict(X_train_arr)"
   ]
  },
  {
   "cell_type": "code",
   "execution_count": null,
   "id": "b1f5dc30",
   "metadata": {},
   "outputs": [],
   "source": []
  },
  {
   "cell_type": "markdown",
   "id": "808cd72e",
   "metadata": {},
   "source": [
    "## Root Mean Squared Error"
   ]
  },
  {
   "cell_type": "code",
   "execution_count": 25,
   "id": "02f97d5f",
   "metadata": {
    "ExecuteTime": {
     "end_time": "2023-01-15T19:16:55.694350Z",
     "start_time": "2023-01-15T19:16:55.690807Z"
    }
   },
   "outputs": [],
   "source": [
    "from sklearn.metrics import mean_squared_error\n",
    "import math"
   ]
  },
  {
   "cell_type": "code",
   "execution_count": 26,
   "id": "ac1fc551",
   "metadata": {
    "ExecuteTime": {
     "end_time": "2023-01-15T19:16:55.938218Z",
     "start_time": "2023-01-15T19:16:55.929407Z"
    }
   },
   "outputs": [],
   "source": [
    "train_eval_metrics = math.sqrt(mean_squared_error(Y_train_pred, Y_train))"
   ]
  },
  {
   "cell_type": "code",
   "execution_count": 27,
   "id": "70a4ec46",
   "metadata": {
    "ExecuteTime": {
     "end_time": "2023-01-15T19:16:56.560792Z",
     "start_time": "2023-01-15T19:16:56.553207Z"
    }
   },
   "outputs": [
    {
     "data": {
      "text/plain": [
       "20809.892056569515"
      ]
     },
     "execution_count": 27,
     "metadata": {},
     "output_type": "execute_result"
    }
   ],
   "source": [
    "train_eval_metrics"
   ]
  },
  {
   "cell_type": "code",
   "execution_count": null,
   "id": "20d424b4",
   "metadata": {},
   "outputs": [],
   "source": []
  },
  {
   "cell_type": "code",
   "execution_count": 55,
   "id": "c5de57c7",
   "metadata": {
    "ExecuteTime": {
     "end_time": "2023-01-15T19:26:24.765415Z",
     "start_time": "2023-01-15T19:26:24.755387Z"
    }
   },
   "outputs": [],
   "source": [
    "train_eval_metrics = math.sqrt(mean_squared_error(Y_train_pred, Y_train))"
   ]
  },
  {
   "cell_type": "code",
   "execution_count": 56,
   "id": "773262e2",
   "metadata": {
    "ExecuteTime": {
     "end_time": "2023-01-15T19:26:25.155080Z",
     "start_time": "2023-01-15T19:26:25.146109Z"
    }
   },
   "outputs": [
    {
     "data": {
      "text/plain": [
       "10504.458338273136"
      ]
     },
     "execution_count": 56,
     "metadata": {},
     "output_type": "execute_result"
    }
   ],
   "source": [
    "train_eval_metrics"
   ]
  },
  {
   "cell_type": "markdown",
   "id": "9f7745a5",
   "metadata": {},
   "source": [
    "## Test Dataset"
   ]
  },
  {
   "cell_type": "code",
   "execution_count": 61,
   "id": "57010251",
   "metadata": {
    "ExecuteTime": {
     "end_time": "2023-01-15T19:30:11.061811Z",
     "start_time": "2023-01-15T19:30:10.984931Z"
    }
   },
   "outputs": [],
   "source": [
    "test_df = pd.read_csv('data/test.csv')"
   ]
  },
  {
   "cell_type": "code",
   "execution_count": 29,
   "id": "c9f30af3",
   "metadata": {
    "ExecuteTime": {
     "end_time": "2023-01-15T19:17:07.274494Z",
     "start_time": "2023-01-15T19:17:07.202116Z"
    }
   },
   "outputs": [
    {
     "name": "stdout",
     "output_type": "stream",
     "text": [
      "This is test dataset return only X...\n"
     ]
    }
   ],
   "source": [
    "X_test, y_test = X_preprocessing(test_df)"
   ]
  },
  {
   "cell_type": "markdown",
   "id": "8a9dfa48",
   "metadata": {},
   "source": [
    "## Adjust the column of train and test datasource"
   ]
  },
  {
   "cell_type": "code",
   "execution_count": 30,
   "id": "e9b8d68b",
   "metadata": {
    "ExecuteTime": {
     "end_time": "2023-01-15T19:17:13.769456Z",
     "start_time": "2023-01-15T19:17:13.757696Z"
    }
   },
   "outputs": [],
   "source": [
    "X_train_scale_final, X_test = X_train_scale.align(X_test, join = 'left', axis=1)"
   ]
  },
  {
   "cell_type": "markdown",
   "id": "4ef0a8eb",
   "metadata": {},
   "source": [
    "### Using z-scaler to transform it"
   ]
  },
  {
   "cell_type": "code",
   "execution_count": 31,
   "id": "92ba1be4",
   "metadata": {
    "ExecuteTime": {
     "end_time": "2023-01-15T19:17:40.751484Z",
     "start_time": "2023-01-15T19:17:40.721934Z"
    }
   },
   "outputs": [],
   "source": [
    "X_test_scale = scaler.transform(X_test)\n",
    "X_test_scale_final = pd.DataFrame(X_test_scale, columns= X_test.columns)\n",
    "\n",
    "X_test_scale_final = X_test_scale_final.fillna(0)"
   ]
  },
  {
   "cell_type": "code",
   "execution_count": 49,
   "id": "b292b05c",
   "metadata": {
    "ExecuteTime": {
     "end_time": "2023-01-15T19:22:49.932037Z",
     "start_time": "2023-01-15T19:22:49.833285Z"
    }
   },
   "outputs": [
    {
     "data": {
      "text/html": [
       "<div>\n",
       "<style scoped>\n",
       "    .dataframe tbody tr th:only-of-type {\n",
       "        vertical-align: middle;\n",
       "    }\n",
       "\n",
       "    .dataframe tbody tr th {\n",
       "        vertical-align: top;\n",
       "    }\n",
       "\n",
       "    .dataframe thead th {\n",
       "        text-align: right;\n",
       "    }\n",
       "</style>\n",
       "<table border=\"1\" class=\"dataframe\">\n",
       "  <thead>\n",
       "    <tr style=\"text-align: right;\">\n",
       "      <th></th>\n",
       "      <th>OverallQual</th>\n",
       "      <th>OverallCond</th>\n",
       "      <th>YearBuilt</th>\n",
       "      <th>YearRemodAdd</th>\n",
       "      <th>CentralAir</th>\n",
       "      <th>YrSold</th>\n",
       "      <th>LotFrontage</th>\n",
       "      <th>LotArea</th>\n",
       "      <th>MasVnrArea</th>\n",
       "      <th>BsmtFinSF1</th>\n",
       "      <th>BsmtFinSF2</th>\n",
       "      <th>BsmtUnfSF</th>\n",
       "      <th>TotalBsmtSF</th>\n",
       "      <th>1stFlrSF</th>\n",
       "      <th>2ndFlrSF</th>\n",
       "      <th>LowQualFinSF</th>\n",
       "      <th>GrLivArea</th>\n",
       "      <th>BsmtFullBath</th>\n",
       "      <th>BsmtHalfBath</th>\n",
       "      <th>FullBath</th>\n",
       "      <th>HalfBath</th>\n",
       "      <th>BedroomAbvGr</th>\n",
       "      <th>KitchenAbvGr</th>\n",
       "      <th>TotRmsAbvGrd</th>\n",
       "      <th>Fireplaces</th>\n",
       "      <th>GarageYrBlt</th>\n",
       "      <th>GarageCars</th>\n",
       "      <th>GarageArea</th>\n",
       "      <th>WoodDeckSF</th>\n",
       "      <th>OpenPorchSF</th>\n",
       "      <th>EnclosedPorch</th>\n",
       "      <th>3SsnPorch</th>\n",
       "      <th>ScreenPorch</th>\n",
       "      <th>PoolArea</th>\n",
       "      <th>MiscVal</th>\n",
       "      <th>MSSubClass_MSSC_120</th>\n",
       "      <th>MSSubClass_MSSC_160</th>\n",
       "      <th>MSSubClass_MSSC_180</th>\n",
       "      <th>MSSubClass_MSSC_190</th>\n",
       "      <th>MSSubClass_MSSC_20</th>\n",
       "      <th>MSSubClass_MSSC_30</th>\n",
       "      <th>MSSubClass_MSSC_40</th>\n",
       "      <th>MSSubClass_MSSC_45</th>\n",
       "      <th>MSSubClass_MSSC_50</th>\n",
       "      <th>MSSubClass_MSSC_60</th>\n",
       "      <th>MSSubClass_MSSC_70</th>\n",
       "      <th>MSSubClass_MSSC_75</th>\n",
       "      <th>MSSubClass_MSSC_80</th>\n",
       "      <th>MSSubClass_MSSC_85</th>\n",
       "      <th>MSSubClass_MSSC_90</th>\n",
       "      <th>...</th>\n",
       "      <th>Functional_Typ</th>\n",
       "      <th>GarageType_2Types</th>\n",
       "      <th>GarageType_Attchd</th>\n",
       "      <th>GarageType_Basment</th>\n",
       "      <th>GarageType_BuiltIn</th>\n",
       "      <th>GarageType_CarPort</th>\n",
       "      <th>GarageType_Detchd</th>\n",
       "      <th>GarageFinish_Fin</th>\n",
       "      <th>GarageFinish_RFn</th>\n",
       "      <th>GarageFinish_Unf</th>\n",
       "      <th>GarageQual_Ex</th>\n",
       "      <th>GarageQual_Fa</th>\n",
       "      <th>GarageQual_Gd</th>\n",
       "      <th>GarageQual_Po</th>\n",
       "      <th>GarageQual_TA</th>\n",
       "      <th>GarageCond_Ex</th>\n",
       "      <th>GarageCond_Fa</th>\n",
       "      <th>GarageCond_Gd</th>\n",
       "      <th>GarageCond_Po</th>\n",
       "      <th>GarageCond_TA</th>\n",
       "      <th>PavedDrive_N</th>\n",
       "      <th>PavedDrive_P</th>\n",
       "      <th>PavedDrive_Y</th>\n",
       "      <th>SaleType_COD</th>\n",
       "      <th>SaleType_CWD</th>\n",
       "      <th>SaleType_Con</th>\n",
       "      <th>SaleType_ConLD</th>\n",
       "      <th>SaleType_ConLI</th>\n",
       "      <th>SaleType_ConLw</th>\n",
       "      <th>SaleType_New</th>\n",
       "      <th>SaleType_Oth</th>\n",
       "      <th>SaleType_WD</th>\n",
       "      <th>SaleCondition_Abnorml</th>\n",
       "      <th>SaleCondition_AdjLand</th>\n",
       "      <th>SaleCondition_Alloca</th>\n",
       "      <th>SaleCondition_Family</th>\n",
       "      <th>SaleCondition_Normal</th>\n",
       "      <th>SaleCondition_Partial</th>\n",
       "      <th>sold_April</th>\n",
       "      <th>sold_August</th>\n",
       "      <th>sold_December</th>\n",
       "      <th>sold_February</th>\n",
       "      <th>sold_January</th>\n",
       "      <th>sold_July</th>\n",
       "      <th>sold_June</th>\n",
       "      <th>sold_March</th>\n",
       "      <th>sold_May</th>\n",
       "      <th>sold_November</th>\n",
       "      <th>sold_October</th>\n",
       "      <th>sold_September</th>\n",
       "    </tr>\n",
       "  </thead>\n",
       "  <tbody>\n",
       "    <tr>\n",
       "      <th>0</th>\n",
       "      <td>-0.795151</td>\n",
       "      <td>0.381743</td>\n",
       "      <td>-0.571923</td>\n",
       "      <td>-0.555742</td>\n",
       "      <td>0.263813</td>\n",
       "      <td>0.411777</td>\n",
       "      <td>0.645747</td>\n",
       "      <td>0.110763</td>\n",
       "      <td>-0.570750</td>\n",
       "      <td>0.053428</td>\n",
       "      <td>0.604293</td>\n",
       "      <td>-0.672923</td>\n",
       "      <td>-0.400017</td>\n",
       "      <td>-0.689929</td>\n",
       "      <td>-0.795163</td>\n",
       "      <td>-0.120242</td>\n",
       "      <td>-1.179256</td>\n",
       "      <td>-0.819964</td>\n",
       "      <td>-0.241061</td>\n",
       "      <td>-1.026041</td>\n",
       "      <td>-0.761621</td>\n",
       "      <td>-1.062465</td>\n",
       "      <td>-0.211454</td>\n",
       "      <td>-0.934130</td>\n",
       "      <td>-0.951226</td>\n",
       "      <td>0.203422</td>\n",
       "      <td>-1.026858</td>\n",
       "      <td>1.202536</td>\n",
       "      <td>0.365179</td>\n",
       "      <td>-0.704483</td>\n",
       "      <td>-0.359325</td>\n",
       "      <td>-0.116339</td>\n",
       "      <td>1.882709</td>\n",
       "      <td>-0.068692</td>\n",
       "      <td>-0.087688</td>\n",
       "      <td>-0.251724</td>\n",
       "      <td>-0.212360</td>\n",
       "      <td>-0.083045</td>\n",
       "      <td>-0.144841</td>\n",
       "      <td>1.312966</td>\n",
       "      <td>-0.222721</td>\n",
       "      <td>-0.052414</td>\n",
       "      <td>-0.091035</td>\n",
       "      <td>-0.330791</td>\n",
       "      <td>-0.507481</td>\n",
       "      <td>-0.20702</td>\n",
       "      <td>-0.105263</td>\n",
       "      <td>-0.203395</td>\n",
       "      <td>-0.117851</td>\n",
       "      <td>-0.192177</td>\n",
       "      <td>...</td>\n",
       "      <td>0.271163</td>\n",
       "      <td>-0.064238</td>\n",
       "      <td>0.731591</td>\n",
       "      <td>-0.114827</td>\n",
       "      <td>-0.253259</td>\n",
       "      <td>-0.078757</td>\n",
       "      <td>-0.600559</td>\n",
       "      <td>-0.563640</td>\n",
       "      <td>-0.637614</td>\n",
       "      <td>1.062205</td>\n",
       "      <td>0.0</td>\n",
       "      <td>-0.184376</td>\n",
       "      <td>-0.098397</td>\n",
       "      <td>-0.045376</td>\n",
       "      <td>0.221022</td>\n",
       "      <td>-0.037037</td>\n",
       "      <td>-0.156721</td>\n",
       "      <td>-0.078757</td>\n",
       "      <td>-0.069409</td>\n",
       "      <td>0.194085</td>\n",
       "      <td>-0.256307</td>\n",
       "      <td>-0.144841</td>\n",
       "      <td>0.299253</td>\n",
       "      <td>-0.1742</td>\n",
       "      <td>-0.052414</td>\n",
       "      <td>-0.037037</td>\n",
       "      <td>-0.078757</td>\n",
       "      <td>-0.058621</td>\n",
       "      <td>-0.058621</td>\n",
       "      <td>-0.301962</td>\n",
       "      <td>-0.045376</td>\n",
       "      <td>0.390293</td>\n",
       "      <td>-0.272616</td>\n",
       "      <td>-0.052414</td>\n",
       "      <td>-0.091035</td>\n",
       "      <td>-0.117851</td>\n",
       "      <td>0.467651</td>\n",
       "      <td>-0.305995</td>\n",
       "      <td>-0.326954</td>\n",
       "      <td>-0.301962</td>\n",
       "      <td>-0.205214</td>\n",
       "      <td>-0.192177</td>\n",
       "      <td>-0.203395</td>\n",
       "      <td>-0.436881</td>\n",
       "      <td>2.184205</td>\n",
       "      <td>-0.279797</td>\n",
       "      <td>-0.403014</td>\n",
       "      <td>-0.239176</td>\n",
       "      <td>-0.254786</td>\n",
       "      <td>-0.212360</td>\n",
       "    </tr>\n",
       "    <tr>\n",
       "      <th>1</th>\n",
       "      <td>-0.071836</td>\n",
       "      <td>0.381743</td>\n",
       "      <td>-0.671285</td>\n",
       "      <td>-0.555742</td>\n",
       "      <td>0.263813</td>\n",
       "      <td>0.510984</td>\n",
       "      <td>0.674605</td>\n",
       "      <td>0.375850</td>\n",
       "      <td>0.027027</td>\n",
       "      <td>1.051363</td>\n",
       "      <td>-0.288653</td>\n",
       "      <td>-0.365032</td>\n",
       "      <td>0.619239</td>\n",
       "      <td>0.430511</td>\n",
       "      <td>-0.795163</td>\n",
       "      <td>-0.120242</td>\n",
       "      <td>-0.354966</td>\n",
       "      <td>-0.819964</td>\n",
       "      <td>-0.241061</td>\n",
       "      <td>-1.026041</td>\n",
       "      <td>1.227585</td>\n",
       "      <td>0.163779</td>\n",
       "      <td>-0.211454</td>\n",
       "      <td>-0.318683</td>\n",
       "      <td>-0.951226</td>\n",
       "      <td>0.196807</td>\n",
       "      <td>-1.026858</td>\n",
       "      <td>-0.753188</td>\n",
       "      <td>2.384400</td>\n",
       "      <td>-0.160950</td>\n",
       "      <td>-0.359325</td>\n",
       "      <td>-0.116339</td>\n",
       "      <td>-0.270208</td>\n",
       "      <td>-0.068692</td>\n",
       "      <td>25.116309</td>\n",
       "      <td>-0.251724</td>\n",
       "      <td>-0.212360</td>\n",
       "      <td>-0.083045</td>\n",
       "      <td>-0.144841</td>\n",
       "      <td>1.312966</td>\n",
       "      <td>-0.222721</td>\n",
       "      <td>-0.052414</td>\n",
       "      <td>-0.091035</td>\n",
       "      <td>-0.330791</td>\n",
       "      <td>-0.507481</td>\n",
       "      <td>-0.20702</td>\n",
       "      <td>-0.105263</td>\n",
       "      <td>-0.203395</td>\n",
       "      <td>-0.117851</td>\n",
       "      <td>-0.192177</td>\n",
       "      <td>...</td>\n",
       "      <td>0.271163</td>\n",
       "      <td>-0.064238</td>\n",
       "      <td>0.731591</td>\n",
       "      <td>-0.114827</td>\n",
       "      <td>-0.253259</td>\n",
       "      <td>-0.078757</td>\n",
       "      <td>-0.600559</td>\n",
       "      <td>-0.563640</td>\n",
       "      <td>-0.637614</td>\n",
       "      <td>1.062205</td>\n",
       "      <td>0.0</td>\n",
       "      <td>-0.184376</td>\n",
       "      <td>-0.098397</td>\n",
       "      <td>-0.045376</td>\n",
       "      <td>0.221022</td>\n",
       "      <td>-0.037037</td>\n",
       "      <td>-0.156721</td>\n",
       "      <td>-0.078757</td>\n",
       "      <td>-0.069409</td>\n",
       "      <td>0.194085</td>\n",
       "      <td>-0.256307</td>\n",
       "      <td>-0.144841</td>\n",
       "      <td>0.299253</td>\n",
       "      <td>-0.1742</td>\n",
       "      <td>-0.052414</td>\n",
       "      <td>-0.037037</td>\n",
       "      <td>-0.078757</td>\n",
       "      <td>-0.058621</td>\n",
       "      <td>-0.058621</td>\n",
       "      <td>-0.301962</td>\n",
       "      <td>-0.045376</td>\n",
       "      <td>0.390293</td>\n",
       "      <td>-0.272616</td>\n",
       "      <td>-0.052414</td>\n",
       "      <td>-0.091035</td>\n",
       "      <td>-0.117851</td>\n",
       "      <td>0.467651</td>\n",
       "      <td>-0.305995</td>\n",
       "      <td>-0.326954</td>\n",
       "      <td>-0.301962</td>\n",
       "      <td>-0.205214</td>\n",
       "      <td>-0.192177</td>\n",
       "      <td>-0.203395</td>\n",
       "      <td>-0.436881</td>\n",
       "      <td>2.184205</td>\n",
       "      <td>-0.279797</td>\n",
       "      <td>-0.403014</td>\n",
       "      <td>-0.239176</td>\n",
       "      <td>-0.254786</td>\n",
       "      <td>-0.212360</td>\n",
       "    </tr>\n",
       "    <tr>\n",
       "      <th>2</th>\n",
       "      <td>-0.795151</td>\n",
       "      <td>-0.517200</td>\n",
       "      <td>0.620424</td>\n",
       "      <td>-0.514873</td>\n",
       "      <td>0.263813</td>\n",
       "      <td>-0.778707</td>\n",
       "      <td>0.472599</td>\n",
       "      <td>0.332053</td>\n",
       "      <td>-0.570750</td>\n",
       "      <td>0.761852</td>\n",
       "      <td>-0.288653</td>\n",
       "      <td>-0.974021</td>\n",
       "      <td>-0.295127</td>\n",
       "      <td>-0.607125</td>\n",
       "      <td>0.811239</td>\n",
       "      <td>-0.120242</td>\n",
       "      <td>0.216136</td>\n",
       "      <td>-0.819964</td>\n",
       "      <td>-0.241061</td>\n",
       "      <td>0.789741</td>\n",
       "      <td>1.227585</td>\n",
       "      <td>0.163779</td>\n",
       "      <td>-0.211454</td>\n",
       "      <td>-0.318683</td>\n",
       "      <td>0.600495</td>\n",
       "      <td>0.282797</td>\n",
       "      <td>0.311725</td>\n",
       "      <td>0.042202</td>\n",
       "      <td>0.939819</td>\n",
       "      <td>-0.191147</td>\n",
       "      <td>-0.359325</td>\n",
       "      <td>-0.116339</td>\n",
       "      <td>-0.270208</td>\n",
       "      <td>-0.068692</td>\n",
       "      <td>-0.087688</td>\n",
       "      <td>-0.251724</td>\n",
       "      <td>-0.212360</td>\n",
       "      <td>-0.083045</td>\n",
       "      <td>-0.144841</td>\n",
       "      <td>-0.761634</td>\n",
       "      <td>-0.222721</td>\n",
       "      <td>-0.052414</td>\n",
       "      <td>-0.091035</td>\n",
       "      <td>-0.330791</td>\n",
       "      <td>1.970518</td>\n",
       "      <td>-0.20702</td>\n",
       "      <td>-0.105263</td>\n",
       "      <td>-0.203395</td>\n",
       "      <td>-0.117851</td>\n",
       "      <td>-0.192177</td>\n",
       "      <td>...</td>\n",
       "      <td>0.271163</td>\n",
       "      <td>-0.064238</td>\n",
       "      <td>0.731591</td>\n",
       "      <td>-0.114827</td>\n",
       "      <td>-0.253259</td>\n",
       "      <td>-0.078757</td>\n",
       "      <td>-0.600559</td>\n",
       "      <td>1.774184</td>\n",
       "      <td>-0.637614</td>\n",
       "      <td>-0.941438</td>\n",
       "      <td>0.0</td>\n",
       "      <td>-0.184376</td>\n",
       "      <td>-0.098397</td>\n",
       "      <td>-0.045376</td>\n",
       "      <td>0.221022</td>\n",
       "      <td>-0.037037</td>\n",
       "      <td>-0.156721</td>\n",
       "      <td>-0.078757</td>\n",
       "      <td>-0.069409</td>\n",
       "      <td>0.194085</td>\n",
       "      <td>-0.256307</td>\n",
       "      <td>-0.144841</td>\n",
       "      <td>0.299253</td>\n",
       "      <td>-0.1742</td>\n",
       "      <td>-0.052414</td>\n",
       "      <td>-0.037037</td>\n",
       "      <td>-0.078757</td>\n",
       "      <td>-0.058621</td>\n",
       "      <td>-0.058621</td>\n",
       "      <td>-0.301962</td>\n",
       "      <td>-0.045376</td>\n",
       "      <td>0.390293</td>\n",
       "      <td>-0.272616</td>\n",
       "      <td>-0.052414</td>\n",
       "      <td>-0.091035</td>\n",
       "      <td>-0.117851</td>\n",
       "      <td>0.467651</td>\n",
       "      <td>-0.305995</td>\n",
       "      <td>-0.326954</td>\n",
       "      <td>-0.301962</td>\n",
       "      <td>-0.205214</td>\n",
       "      <td>-0.192177</td>\n",
       "      <td>-0.203395</td>\n",
       "      <td>-0.436881</td>\n",
       "      <td>-0.457833</td>\n",
       "      <td>3.574015</td>\n",
       "      <td>-0.403014</td>\n",
       "      <td>-0.239176</td>\n",
       "      <td>-0.254786</td>\n",
       "      <td>-0.212360</td>\n",
       "    </tr>\n",
       "    <tr>\n",
       "      <th>3</th>\n",
       "      <td>-0.071836</td>\n",
       "      <td>0.381743</td>\n",
       "      <td>0.653545</td>\n",
       "      <td>-0.555742</td>\n",
       "      <td>0.263813</td>\n",
       "      <td>-0.811776</td>\n",
       "      <td>0.588031</td>\n",
       "      <td>-0.054002</td>\n",
       "      <td>-0.460051</td>\n",
       "      <td>0.347326</td>\n",
       "      <td>-0.288653</td>\n",
       "      <td>-0.550672</td>\n",
       "      <td>-0.299687</td>\n",
       "      <td>-0.612300</td>\n",
       "      <td>0.758532</td>\n",
       "      <td>-0.120242</td>\n",
       "      <td>0.168544</td>\n",
       "      <td>-0.819964</td>\n",
       "      <td>-0.241061</td>\n",
       "      <td>0.789741</td>\n",
       "      <td>1.227585</td>\n",
       "      <td>0.163779</td>\n",
       "      <td>-0.211454</td>\n",
       "      <td>0.296763</td>\n",
       "      <td>0.600495</td>\n",
       "      <td>0.285002</td>\n",
       "      <td>0.311725</td>\n",
       "      <td>-0.013943</td>\n",
       "      <td>2.121024</td>\n",
       "      <td>-0.160950</td>\n",
       "      <td>-0.359325</td>\n",
       "      <td>-0.116339</td>\n",
       "      <td>-0.270208</td>\n",
       "      <td>-0.068692</td>\n",
       "      <td>-0.087688</td>\n",
       "      <td>-0.251724</td>\n",
       "      <td>-0.212360</td>\n",
       "      <td>-0.083045</td>\n",
       "      <td>-0.144841</td>\n",
       "      <td>-0.761634</td>\n",
       "      <td>-0.222721</td>\n",
       "      <td>-0.052414</td>\n",
       "      <td>-0.091035</td>\n",
       "      <td>-0.330791</td>\n",
       "      <td>1.970518</td>\n",
       "      <td>-0.20702</td>\n",
       "      <td>-0.105263</td>\n",
       "      <td>-0.203395</td>\n",
       "      <td>-0.117851</td>\n",
       "      <td>-0.192177</td>\n",
       "      <td>...</td>\n",
       "      <td>0.271163</td>\n",
       "      <td>-0.064238</td>\n",
       "      <td>0.731591</td>\n",
       "      <td>-0.114827</td>\n",
       "      <td>-0.253259</td>\n",
       "      <td>-0.078757</td>\n",
       "      <td>-0.600559</td>\n",
       "      <td>1.774184</td>\n",
       "      <td>-0.637614</td>\n",
       "      <td>-0.941438</td>\n",
       "      <td>0.0</td>\n",
       "      <td>-0.184376</td>\n",
       "      <td>-0.098397</td>\n",
       "      <td>-0.045376</td>\n",
       "      <td>0.221022</td>\n",
       "      <td>-0.037037</td>\n",
       "      <td>-0.156721</td>\n",
       "      <td>-0.078757</td>\n",
       "      <td>-0.069409</td>\n",
       "      <td>0.194085</td>\n",
       "      <td>-0.256307</td>\n",
       "      <td>-0.144841</td>\n",
       "      <td>0.299253</td>\n",
       "      <td>-0.1742</td>\n",
       "      <td>-0.052414</td>\n",
       "      <td>-0.037037</td>\n",
       "      <td>-0.078757</td>\n",
       "      <td>-0.058621</td>\n",
       "      <td>-0.058621</td>\n",
       "      <td>-0.301962</td>\n",
       "      <td>-0.045376</td>\n",
       "      <td>0.390293</td>\n",
       "      <td>-0.272616</td>\n",
       "      <td>-0.052414</td>\n",
       "      <td>-0.091035</td>\n",
       "      <td>-0.117851</td>\n",
       "      <td>0.467651</td>\n",
       "      <td>-0.305995</td>\n",
       "      <td>-0.326954</td>\n",
       "      <td>-0.301962</td>\n",
       "      <td>-0.205214</td>\n",
       "      <td>-0.192177</td>\n",
       "      <td>-0.203395</td>\n",
       "      <td>-0.436881</td>\n",
       "      <td>2.184205</td>\n",
       "      <td>-0.279797</td>\n",
       "      <td>-0.403014</td>\n",
       "      <td>-0.239176</td>\n",
       "      <td>-0.254786</td>\n",
       "      <td>-0.212360</td>\n",
       "    </tr>\n",
       "    <tr>\n",
       "      <th>4</th>\n",
       "      <td>1.374795</td>\n",
       "      <td>-0.517200</td>\n",
       "      <td>0.454820</td>\n",
       "      <td>-0.555742</td>\n",
       "      <td>0.263813</td>\n",
       "      <td>-0.613362</td>\n",
       "      <td>-0.421999</td>\n",
       "      <td>-0.552407</td>\n",
       "      <td>-0.570750</td>\n",
       "      <td>-0.396190</td>\n",
       "      <td>-0.288653</td>\n",
       "      <td>1.018211</td>\n",
       "      <td>0.507509</td>\n",
       "      <td>0.303718</td>\n",
       "      <td>-0.795163</td>\n",
       "      <td>-0.120242</td>\n",
       "      <td>-0.448246</td>\n",
       "      <td>-0.819964</td>\n",
       "      <td>-0.241061</td>\n",
       "      <td>0.789741</td>\n",
       "      <td>-0.761621</td>\n",
       "      <td>-1.062465</td>\n",
       "      <td>-0.211454</td>\n",
       "      <td>-0.934130</td>\n",
       "      <td>-0.951226</td>\n",
       "      <td>0.271773</td>\n",
       "      <td>0.311725</td>\n",
       "      <td>0.154492</td>\n",
       "      <td>-0.752176</td>\n",
       "      <td>0.533564</td>\n",
       "      <td>-0.359325</td>\n",
       "      <td>-0.116339</td>\n",
       "      <td>2.313293</td>\n",
       "      <td>-0.068692</td>\n",
       "      <td>-0.087688</td>\n",
       "      <td>3.972607</td>\n",
       "      <td>-0.212360</td>\n",
       "      <td>-0.083045</td>\n",
       "      <td>-0.144841</td>\n",
       "      <td>-0.761634</td>\n",
       "      <td>-0.222721</td>\n",
       "      <td>-0.052414</td>\n",
       "      <td>-0.091035</td>\n",
       "      <td>-0.330791</td>\n",
       "      <td>-0.507481</td>\n",
       "      <td>-0.20702</td>\n",
       "      <td>-0.105263</td>\n",
       "      <td>-0.203395</td>\n",
       "      <td>-0.117851</td>\n",
       "      <td>-0.192177</td>\n",
       "      <td>...</td>\n",
       "      <td>0.271163</td>\n",
       "      <td>-0.064238</td>\n",
       "      <td>0.731591</td>\n",
       "      <td>-0.114827</td>\n",
       "      <td>-0.253259</td>\n",
       "      <td>-0.078757</td>\n",
       "      <td>-0.600559</td>\n",
       "      <td>-0.563640</td>\n",
       "      <td>1.568348</td>\n",
       "      <td>-0.941438</td>\n",
       "      <td>0.0</td>\n",
       "      <td>-0.184376</td>\n",
       "      <td>-0.098397</td>\n",
       "      <td>-0.045376</td>\n",
       "      <td>0.221022</td>\n",
       "      <td>-0.037037</td>\n",
       "      <td>-0.156721</td>\n",
       "      <td>-0.078757</td>\n",
       "      <td>-0.069409</td>\n",
       "      <td>0.194085</td>\n",
       "      <td>-0.256307</td>\n",
       "      <td>-0.144841</td>\n",
       "      <td>0.299253</td>\n",
       "      <td>-0.1742</td>\n",
       "      <td>-0.052414</td>\n",
       "      <td>-0.037037</td>\n",
       "      <td>-0.078757</td>\n",
       "      <td>-0.058621</td>\n",
       "      <td>-0.058621</td>\n",
       "      <td>-0.301962</td>\n",
       "      <td>-0.045376</td>\n",
       "      <td>0.390293</td>\n",
       "      <td>-0.272616</td>\n",
       "      <td>-0.052414</td>\n",
       "      <td>-0.091035</td>\n",
       "      <td>-0.117851</td>\n",
       "      <td>0.467651</td>\n",
       "      <td>-0.305995</td>\n",
       "      <td>-0.326954</td>\n",
       "      <td>-0.301962</td>\n",
       "      <td>-0.205214</td>\n",
       "      <td>-0.192177</td>\n",
       "      <td>4.916545</td>\n",
       "      <td>-0.436881</td>\n",
       "      <td>-0.457833</td>\n",
       "      <td>-0.279797</td>\n",
       "      <td>-0.403014</td>\n",
       "      <td>-0.239176</td>\n",
       "      <td>-0.254786</td>\n",
       "      <td>-0.212360</td>\n",
       "    </tr>\n",
       "    <tr>\n",
       "      <th>...</th>\n",
       "      <td>...</td>\n",
       "      <td>...</td>\n",
       "      <td>...</td>\n",
       "      <td>...</td>\n",
       "      <td>...</td>\n",
       "      <td>...</td>\n",
       "      <td>...</td>\n",
       "      <td>...</td>\n",
       "      <td>...</td>\n",
       "      <td>...</td>\n",
       "      <td>...</td>\n",
       "      <td>...</td>\n",
       "      <td>...</td>\n",
       "      <td>...</td>\n",
       "      <td>...</td>\n",
       "      <td>...</td>\n",
       "      <td>...</td>\n",
       "      <td>...</td>\n",
       "      <td>...</td>\n",
       "      <td>...</td>\n",
       "      <td>...</td>\n",
       "      <td>...</td>\n",
       "      <td>...</td>\n",
       "      <td>...</td>\n",
       "      <td>...</td>\n",
       "      <td>...</td>\n",
       "      <td>...</td>\n",
       "      <td>...</td>\n",
       "      <td>...</td>\n",
       "      <td>...</td>\n",
       "      <td>...</td>\n",
       "      <td>...</td>\n",
       "      <td>...</td>\n",
       "      <td>...</td>\n",
       "      <td>...</td>\n",
       "      <td>...</td>\n",
       "      <td>...</td>\n",
       "      <td>...</td>\n",
       "      <td>...</td>\n",
       "      <td>...</td>\n",
       "      <td>...</td>\n",
       "      <td>...</td>\n",
       "      <td>...</td>\n",
       "      <td>...</td>\n",
       "      <td>...</td>\n",
       "      <td>...</td>\n",
       "      <td>...</td>\n",
       "      <td>...</td>\n",
       "      <td>...</td>\n",
       "      <td>...</td>\n",
       "      <td>...</td>\n",
       "      <td>...</td>\n",
       "      <td>...</td>\n",
       "      <td>...</td>\n",
       "      <td>...</td>\n",
       "      <td>...</td>\n",
       "      <td>...</td>\n",
       "      <td>...</td>\n",
       "      <td>...</td>\n",
       "      <td>...</td>\n",
       "      <td>...</td>\n",
       "      <td>...</td>\n",
       "      <td>...</td>\n",
       "      <td>...</td>\n",
       "      <td>...</td>\n",
       "      <td>...</td>\n",
       "      <td>...</td>\n",
       "      <td>...</td>\n",
       "      <td>...</td>\n",
       "      <td>...</td>\n",
       "      <td>...</td>\n",
       "      <td>...</td>\n",
       "      <td>...</td>\n",
       "      <td>...</td>\n",
       "      <td>...</td>\n",
       "      <td>...</td>\n",
       "      <td>...</td>\n",
       "      <td>...</td>\n",
       "      <td>...</td>\n",
       "      <td>...</td>\n",
       "      <td>...</td>\n",
       "      <td>...</td>\n",
       "      <td>...</td>\n",
       "      <td>...</td>\n",
       "      <td>...</td>\n",
       "      <td>...</td>\n",
       "      <td>...</td>\n",
       "      <td>...</td>\n",
       "      <td>...</td>\n",
       "      <td>...</td>\n",
       "      <td>...</td>\n",
       "      <td>...</td>\n",
       "      <td>...</td>\n",
       "      <td>...</td>\n",
       "      <td>...</td>\n",
       "      <td>...</td>\n",
       "      <td>...</td>\n",
       "      <td>...</td>\n",
       "      <td>...</td>\n",
       "      <td>...</td>\n",
       "      <td>...</td>\n",
       "    </tr>\n",
       "    <tr>\n",
       "      <th>1454</th>\n",
       "      <td>-1.518467</td>\n",
       "      <td>1.280685</td>\n",
       "      <td>-0.273836</td>\n",
       "      <td>-0.555742</td>\n",
       "      <td>0.263813</td>\n",
       "      <td>-0.018120</td>\n",
       "      <td>-1.056875</td>\n",
       "      <td>-0.859988</td>\n",
       "      <td>-0.570750</td>\n",
       "      <td>-0.973018</td>\n",
       "      <td>-0.288653</td>\n",
       "      <td>-0.048086</td>\n",
       "      <td>-1.166169</td>\n",
       "      <td>-1.595596</td>\n",
       "      <td>0.456043</td>\n",
       "      <td>-0.120242</td>\n",
       "      <td>-0.806136</td>\n",
       "      <td>-0.819964</td>\n",
       "      <td>-0.241061</td>\n",
       "      <td>-1.026041</td>\n",
       "      <td>1.227585</td>\n",
       "      <td>0.163779</td>\n",
       "      <td>-0.211454</td>\n",
       "      <td>-0.934130</td>\n",
       "      <td>-0.951226</td>\n",
       "      <td>-4.120324</td>\n",
       "      <td>-2.365440</td>\n",
       "      <td>-2.212963</td>\n",
       "      <td>-0.752176</td>\n",
       "      <td>-0.704483</td>\n",
       "      <td>-0.359325</td>\n",
       "      <td>-0.116339</td>\n",
       "      <td>-0.270208</td>\n",
       "      <td>-0.068692</td>\n",
       "      <td>-0.087688</td>\n",
       "      <td>-0.251724</td>\n",
       "      <td>4.708992</td>\n",
       "      <td>-0.083045</td>\n",
       "      <td>-0.144841</td>\n",
       "      <td>-0.761634</td>\n",
       "      <td>-0.222721</td>\n",
       "      <td>-0.052414</td>\n",
       "      <td>-0.091035</td>\n",
       "      <td>-0.330791</td>\n",
       "      <td>-0.507481</td>\n",
       "      <td>-0.20702</td>\n",
       "      <td>-0.105263</td>\n",
       "      <td>-0.203395</td>\n",
       "      <td>-0.117851</td>\n",
       "      <td>-0.192177</td>\n",
       "      <td>...</td>\n",
       "      <td>0.271163</td>\n",
       "      <td>-0.064238</td>\n",
       "      <td>0.731591</td>\n",
       "      <td>-0.114827</td>\n",
       "      <td>-0.253259</td>\n",
       "      <td>-0.078757</td>\n",
       "      <td>-0.600559</td>\n",
       "      <td>-0.563640</td>\n",
       "      <td>-0.637614</td>\n",
       "      <td>1.062205</td>\n",
       "      <td>0.0</td>\n",
       "      <td>-0.184376</td>\n",
       "      <td>-0.098397</td>\n",
       "      <td>-0.045376</td>\n",
       "      <td>0.221022</td>\n",
       "      <td>-0.037037</td>\n",
       "      <td>-0.156721</td>\n",
       "      <td>-0.078757</td>\n",
       "      <td>-0.069409</td>\n",
       "      <td>0.194085</td>\n",
       "      <td>-0.256307</td>\n",
       "      <td>-0.144841</td>\n",
       "      <td>0.299253</td>\n",
       "      <td>-0.1742</td>\n",
       "      <td>-0.052414</td>\n",
       "      <td>-0.037037</td>\n",
       "      <td>-0.078757</td>\n",
       "      <td>-0.058621</td>\n",
       "      <td>-0.058621</td>\n",
       "      <td>-0.301962</td>\n",
       "      <td>-0.045376</td>\n",
       "      <td>0.390293</td>\n",
       "      <td>-0.272616</td>\n",
       "      <td>-0.052414</td>\n",
       "      <td>-0.091035</td>\n",
       "      <td>-0.117851</td>\n",
       "      <td>0.467651</td>\n",
       "      <td>-0.305995</td>\n",
       "      <td>-0.326954</td>\n",
       "      <td>-0.301962</td>\n",
       "      <td>-0.205214</td>\n",
       "      <td>-0.192177</td>\n",
       "      <td>-0.203395</td>\n",
       "      <td>-0.436881</td>\n",
       "      <td>2.184205</td>\n",
       "      <td>-0.279797</td>\n",
       "      <td>-0.403014</td>\n",
       "      <td>-0.239176</td>\n",
       "      <td>-0.254786</td>\n",
       "      <td>-0.212360</td>\n",
       "    </tr>\n",
       "    <tr>\n",
       "      <th>1455</th>\n",
       "      <td>-1.518467</td>\n",
       "      <td>-0.517200</td>\n",
       "      <td>-0.273836</td>\n",
       "      <td>-0.555742</td>\n",
       "      <td>0.263813</td>\n",
       "      <td>-0.018120</td>\n",
       "      <td>-1.056875</td>\n",
       "      <td>-0.864197</td>\n",
       "      <td>-0.570750</td>\n",
       "      <td>-0.420316</td>\n",
       "      <td>-0.288653</td>\n",
       "      <td>-0.618589</td>\n",
       "      <td>-1.166169</td>\n",
       "      <td>-1.595596</td>\n",
       "      <td>0.456043</td>\n",
       "      <td>-0.120242</td>\n",
       "      <td>-0.806136</td>\n",
       "      <td>-0.819964</td>\n",
       "      <td>-0.241061</td>\n",
       "      <td>-1.026041</td>\n",
       "      <td>1.227585</td>\n",
       "      <td>0.163779</td>\n",
       "      <td>-0.211454</td>\n",
       "      <td>-0.318683</td>\n",
       "      <td>-0.951226</td>\n",
       "      <td>0.223266</td>\n",
       "      <td>-1.026858</td>\n",
       "      <td>-0.874836</td>\n",
       "      <td>-0.752176</td>\n",
       "      <td>-0.342128</td>\n",
       "      <td>-0.359325</td>\n",
       "      <td>-0.116339</td>\n",
       "      <td>-0.270208</td>\n",
       "      <td>-0.068692</td>\n",
       "      <td>-0.087688</td>\n",
       "      <td>-0.251724</td>\n",
       "      <td>4.708992</td>\n",
       "      <td>-0.083045</td>\n",
       "      <td>-0.144841</td>\n",
       "      <td>-0.761634</td>\n",
       "      <td>-0.222721</td>\n",
       "      <td>-0.052414</td>\n",
       "      <td>-0.091035</td>\n",
       "      <td>-0.330791</td>\n",
       "      <td>-0.507481</td>\n",
       "      <td>-0.20702</td>\n",
       "      <td>-0.105263</td>\n",
       "      <td>-0.203395</td>\n",
       "      <td>-0.117851</td>\n",
       "      <td>-0.192177</td>\n",
       "      <td>...</td>\n",
       "      <td>0.271163</td>\n",
       "      <td>-0.064238</td>\n",
       "      <td>-1.366883</td>\n",
       "      <td>-0.114827</td>\n",
       "      <td>-0.253259</td>\n",
       "      <td>12.697331</td>\n",
       "      <td>-0.600559</td>\n",
       "      <td>-0.563640</td>\n",
       "      <td>-0.637614</td>\n",
       "      <td>1.062205</td>\n",
       "      <td>0.0</td>\n",
       "      <td>-0.184376</td>\n",
       "      <td>-0.098397</td>\n",
       "      <td>-0.045376</td>\n",
       "      <td>0.221022</td>\n",
       "      <td>-0.037037</td>\n",
       "      <td>-0.156721</td>\n",
       "      <td>-0.078757</td>\n",
       "      <td>-0.069409</td>\n",
       "      <td>0.194085</td>\n",
       "      <td>-0.256307</td>\n",
       "      <td>-0.144841</td>\n",
       "      <td>0.299253</td>\n",
       "      <td>-0.1742</td>\n",
       "      <td>-0.052414</td>\n",
       "      <td>-0.037037</td>\n",
       "      <td>-0.078757</td>\n",
       "      <td>-0.058621</td>\n",
       "      <td>-0.058621</td>\n",
       "      <td>-0.301962</td>\n",
       "      <td>-0.045376</td>\n",
       "      <td>0.390293</td>\n",
       "      <td>3.668167</td>\n",
       "      <td>-0.052414</td>\n",
       "      <td>-0.091035</td>\n",
       "      <td>-0.117851</td>\n",
       "      <td>-2.138345</td>\n",
       "      <td>-0.305995</td>\n",
       "      <td>3.058531</td>\n",
       "      <td>-0.301962</td>\n",
       "      <td>-0.205214</td>\n",
       "      <td>-0.192177</td>\n",
       "      <td>-0.203395</td>\n",
       "      <td>-0.436881</td>\n",
       "      <td>-0.457833</td>\n",
       "      <td>-0.279797</td>\n",
       "      <td>-0.403014</td>\n",
       "      <td>-0.239176</td>\n",
       "      <td>-0.254786</td>\n",
       "      <td>-0.212360</td>\n",
       "    </tr>\n",
       "    <tr>\n",
       "      <th>1456</th>\n",
       "      <td>-0.795151</td>\n",
       "      <td>1.280685</td>\n",
       "      <td>-0.605043</td>\n",
       "      <td>0.915562</td>\n",
       "      <td>0.263813</td>\n",
       "      <td>0.312570</td>\n",
       "      <td>2.954388</td>\n",
       "      <td>0.950423</td>\n",
       "      <td>-0.570750</td>\n",
       "      <td>1.711535</td>\n",
       "      <td>-0.288653</td>\n",
       "      <td>-1.284176</td>\n",
       "      <td>0.379817</td>\n",
       "      <td>0.158811</td>\n",
       "      <td>-0.795163</td>\n",
       "      <td>-0.120242</td>\n",
       "      <td>-0.554851</td>\n",
       "      <td>1.107810</td>\n",
       "      <td>-0.241061</td>\n",
       "      <td>-1.026041</td>\n",
       "      <td>-0.761621</td>\n",
       "      <td>1.390023</td>\n",
       "      <td>-0.211454</td>\n",
       "      <td>0.296763</td>\n",
       "      <td>0.600495</td>\n",
       "      <td>0.201217</td>\n",
       "      <td>0.311725</td>\n",
       "      <td>0.482006</td>\n",
       "      <td>3.030870</td>\n",
       "      <td>-0.704483</td>\n",
       "      <td>-0.359325</td>\n",
       "      <td>-0.116339</td>\n",
       "      <td>-0.270208</td>\n",
       "      <td>-0.068692</td>\n",
       "      <td>-0.087688</td>\n",
       "      <td>-0.251724</td>\n",
       "      <td>-0.212360</td>\n",
       "      <td>-0.083045</td>\n",
       "      <td>-0.144841</td>\n",
       "      <td>1.312966</td>\n",
       "      <td>-0.222721</td>\n",
       "      <td>-0.052414</td>\n",
       "      <td>-0.091035</td>\n",
       "      <td>-0.330791</td>\n",
       "      <td>-0.507481</td>\n",
       "      <td>-0.20702</td>\n",
       "      <td>-0.105263</td>\n",
       "      <td>-0.203395</td>\n",
       "      <td>-0.117851</td>\n",
       "      <td>-0.192177</td>\n",
       "      <td>...</td>\n",
       "      <td>0.271163</td>\n",
       "      <td>-0.064238</td>\n",
       "      <td>-1.366883</td>\n",
       "      <td>-0.114827</td>\n",
       "      <td>-0.253259</td>\n",
       "      <td>-0.078757</td>\n",
       "      <td>1.665116</td>\n",
       "      <td>-0.563640</td>\n",
       "      <td>-0.637614</td>\n",
       "      <td>1.062205</td>\n",
       "      <td>0.0</td>\n",
       "      <td>-0.184376</td>\n",
       "      <td>-0.098397</td>\n",
       "      <td>-0.045376</td>\n",
       "      <td>0.221022</td>\n",
       "      <td>-0.037037</td>\n",
       "      <td>-0.156721</td>\n",
       "      <td>-0.078757</td>\n",
       "      <td>-0.069409</td>\n",
       "      <td>0.194085</td>\n",
       "      <td>-0.256307</td>\n",
       "      <td>-0.144841</td>\n",
       "      <td>0.299253</td>\n",
       "      <td>-0.1742</td>\n",
       "      <td>-0.052414</td>\n",
       "      <td>-0.037037</td>\n",
       "      <td>-0.078757</td>\n",
       "      <td>-0.058621</td>\n",
       "      <td>-0.058621</td>\n",
       "      <td>-0.301962</td>\n",
       "      <td>-0.045376</td>\n",
       "      <td>0.390293</td>\n",
       "      <td>3.668167</td>\n",
       "      <td>-0.052414</td>\n",
       "      <td>-0.091035</td>\n",
       "      <td>-0.117851</td>\n",
       "      <td>-2.138345</td>\n",
       "      <td>-0.305995</td>\n",
       "      <td>-0.326954</td>\n",
       "      <td>-0.301962</td>\n",
       "      <td>-0.205214</td>\n",
       "      <td>-0.192177</td>\n",
       "      <td>-0.203395</td>\n",
       "      <td>-0.436881</td>\n",
       "      <td>-0.457833</td>\n",
       "      <td>-0.279797</td>\n",
       "      <td>-0.403014</td>\n",
       "      <td>-0.239176</td>\n",
       "      <td>-0.254786</td>\n",
       "      <td>4.708992</td>\n",
       "    </tr>\n",
       "    <tr>\n",
       "      <th>1457</th>\n",
       "      <td>-0.795151</td>\n",
       "      <td>-0.517200</td>\n",
       "      <td>0.454820</td>\n",
       "      <td>-0.555742</td>\n",
       "      <td>0.263813</td>\n",
       "      <td>-0.745638</td>\n",
       "      <td>0.126303</td>\n",
       "      <td>-0.007600</td>\n",
       "      <td>-0.570750</td>\n",
       "      <td>-0.233889</td>\n",
       "      <td>-0.288653</td>\n",
       "      <td>0.017567</td>\n",
       "      <td>-0.331610</td>\n",
       "      <td>-0.498445</td>\n",
       "      <td>-0.795163</td>\n",
       "      <td>-0.120242</td>\n",
       "      <td>-1.038384</td>\n",
       "      <td>-0.819964</td>\n",
       "      <td>3.948809</td>\n",
       "      <td>-1.026041</td>\n",
       "      <td>-0.761621</td>\n",
       "      <td>0.163779</td>\n",
       "      <td>-0.211454</td>\n",
       "      <td>-0.318683</td>\n",
       "      <td>-0.951226</td>\n",
       "      <td>-4.120324</td>\n",
       "      <td>-2.365440</td>\n",
       "      <td>-2.212963</td>\n",
       "      <td>-0.113687</td>\n",
       "      <td>-0.221343</td>\n",
       "      <td>-0.359325</td>\n",
       "      <td>-0.116339</td>\n",
       "      <td>-0.270208</td>\n",
       "      <td>-0.068692</td>\n",
       "      <td>1.323736</td>\n",
       "      <td>-0.251724</td>\n",
       "      <td>-0.212360</td>\n",
       "      <td>-0.083045</td>\n",
       "      <td>-0.144841</td>\n",
       "      <td>-0.761634</td>\n",
       "      <td>-0.222721</td>\n",
       "      <td>-0.052414</td>\n",
       "      <td>-0.091035</td>\n",
       "      <td>-0.330791</td>\n",
       "      <td>-0.507481</td>\n",
       "      <td>-0.20702</td>\n",
       "      <td>-0.105263</td>\n",
       "      <td>-0.203395</td>\n",
       "      <td>8.485281</td>\n",
       "      <td>-0.192177</td>\n",
       "      <td>...</td>\n",
       "      <td>0.271163</td>\n",
       "      <td>-0.064238</td>\n",
       "      <td>0.731591</td>\n",
       "      <td>-0.114827</td>\n",
       "      <td>-0.253259</td>\n",
       "      <td>-0.078757</td>\n",
       "      <td>-0.600559</td>\n",
       "      <td>-0.563640</td>\n",
       "      <td>-0.637614</td>\n",
       "      <td>1.062205</td>\n",
       "      <td>0.0</td>\n",
       "      <td>-0.184376</td>\n",
       "      <td>-0.098397</td>\n",
       "      <td>-0.045376</td>\n",
       "      <td>0.221022</td>\n",
       "      <td>-0.037037</td>\n",
       "      <td>-0.156721</td>\n",
       "      <td>-0.078757</td>\n",
       "      <td>-0.069409</td>\n",
       "      <td>0.194085</td>\n",
       "      <td>-0.256307</td>\n",
       "      <td>-0.144841</td>\n",
       "      <td>0.299253</td>\n",
       "      <td>-0.1742</td>\n",
       "      <td>-0.052414</td>\n",
       "      <td>-0.037037</td>\n",
       "      <td>-0.078757</td>\n",
       "      <td>-0.058621</td>\n",
       "      <td>-0.058621</td>\n",
       "      <td>-0.301962</td>\n",
       "      <td>-0.045376</td>\n",
       "      <td>0.390293</td>\n",
       "      <td>-0.272616</td>\n",
       "      <td>-0.052414</td>\n",
       "      <td>-0.091035</td>\n",
       "      <td>-0.117851</td>\n",
       "      <td>0.467651</td>\n",
       "      <td>-0.305995</td>\n",
       "      <td>-0.326954</td>\n",
       "      <td>-0.301962</td>\n",
       "      <td>-0.205214</td>\n",
       "      <td>-0.192177</td>\n",
       "      <td>-0.203395</td>\n",
       "      <td>2.288955</td>\n",
       "      <td>-0.457833</td>\n",
       "      <td>-0.279797</td>\n",
       "      <td>-0.403014</td>\n",
       "      <td>-0.239176</td>\n",
       "      <td>-0.254786</td>\n",
       "      <td>-0.212360</td>\n",
       "    </tr>\n",
       "    <tr>\n",
       "      <th>1458</th>\n",
       "      <td>0.651479</td>\n",
       "      <td>-0.517200</td>\n",
       "      <td>0.487941</td>\n",
       "      <td>-0.514873</td>\n",
       "      <td>0.263813</td>\n",
       "      <td>-0.778707</td>\n",
       "      <td>0.472599</td>\n",
       "      <td>-0.089180</td>\n",
       "      <td>-0.050463</td>\n",
       "      <td>0.689474</td>\n",
       "      <td>-0.288653</td>\n",
       "      <td>-0.745367</td>\n",
       "      <td>-0.140072</td>\n",
       "      <td>-0.431167</td>\n",
       "      <td>1.505590</td>\n",
       "      <td>-0.120242</td>\n",
       "      <td>0.922399</td>\n",
       "      <td>-0.819964</td>\n",
       "      <td>-0.241061</td>\n",
       "      <td>0.789741</td>\n",
       "      <td>1.227585</td>\n",
       "      <td>0.163779</td>\n",
       "      <td>-0.211454</td>\n",
       "      <td>1.527656</td>\n",
       "      <td>0.600495</td>\n",
       "      <td>0.273977</td>\n",
       "      <td>1.650307</td>\n",
       "      <td>0.828234</td>\n",
       "      <td>0.764235</td>\n",
       "      <td>0.020227</td>\n",
       "      <td>-0.359325</td>\n",
       "      <td>-0.116339</td>\n",
       "      <td>-0.270208</td>\n",
       "      <td>-0.068692</td>\n",
       "      <td>-0.087688</td>\n",
       "      <td>-0.251724</td>\n",
       "      <td>-0.212360</td>\n",
       "      <td>-0.083045</td>\n",
       "      <td>-0.144841</td>\n",
       "      <td>-0.761634</td>\n",
       "      <td>-0.222721</td>\n",
       "      <td>-0.052414</td>\n",
       "      <td>-0.091035</td>\n",
       "      <td>-0.330791</td>\n",
       "      <td>1.970518</td>\n",
       "      <td>-0.20702</td>\n",
       "      <td>-0.105263</td>\n",
       "      <td>-0.203395</td>\n",
       "      <td>-0.117851</td>\n",
       "      <td>-0.192177</td>\n",
       "      <td>...</td>\n",
       "      <td>0.271163</td>\n",
       "      <td>-0.064238</td>\n",
       "      <td>0.731591</td>\n",
       "      <td>-0.114827</td>\n",
       "      <td>-0.253259</td>\n",
       "      <td>-0.078757</td>\n",
       "      <td>-0.600559</td>\n",
       "      <td>1.774184</td>\n",
       "      <td>-0.637614</td>\n",
       "      <td>-0.941438</td>\n",
       "      <td>0.0</td>\n",
       "      <td>-0.184376</td>\n",
       "      <td>-0.098397</td>\n",
       "      <td>-0.045376</td>\n",
       "      <td>0.221022</td>\n",
       "      <td>-0.037037</td>\n",
       "      <td>-0.156721</td>\n",
       "      <td>-0.078757</td>\n",
       "      <td>-0.069409</td>\n",
       "      <td>0.194085</td>\n",
       "      <td>-0.256307</td>\n",
       "      <td>-0.144841</td>\n",
       "      <td>0.299253</td>\n",
       "      <td>-0.1742</td>\n",
       "      <td>-0.052414</td>\n",
       "      <td>-0.037037</td>\n",
       "      <td>-0.078757</td>\n",
       "      <td>-0.058621</td>\n",
       "      <td>-0.058621</td>\n",
       "      <td>-0.301962</td>\n",
       "      <td>-0.045376</td>\n",
       "      <td>0.390293</td>\n",
       "      <td>-0.272616</td>\n",
       "      <td>-0.052414</td>\n",
       "      <td>-0.091035</td>\n",
       "      <td>-0.117851</td>\n",
       "      <td>0.467651</td>\n",
       "      <td>-0.305995</td>\n",
       "      <td>-0.326954</td>\n",
       "      <td>-0.301962</td>\n",
       "      <td>-0.205214</td>\n",
       "      <td>-0.192177</td>\n",
       "      <td>-0.203395</td>\n",
       "      <td>-0.436881</td>\n",
       "      <td>-0.457833</td>\n",
       "      <td>-0.279797</td>\n",
       "      <td>-0.403014</td>\n",
       "      <td>4.181030</td>\n",
       "      <td>-0.254786</td>\n",
       "      <td>-0.212360</td>\n",
       "    </tr>\n",
       "  </tbody>\n",
       "</table>\n",
       "<p>1459 rows × 294 columns</p>\n",
       "</div>"
      ],
      "text/plain": [
       "      OverallQual  OverallCond  YearBuilt  YearRemodAdd  CentralAir    YrSold  \\\n",
       "0       -0.795151     0.381743  -0.571923     -0.555742    0.263813  0.411777   \n",
       "1       -0.071836     0.381743  -0.671285     -0.555742    0.263813  0.510984   \n",
       "2       -0.795151    -0.517200   0.620424     -0.514873    0.263813 -0.778707   \n",
       "3       -0.071836     0.381743   0.653545     -0.555742    0.263813 -0.811776   \n",
       "4        1.374795    -0.517200   0.454820     -0.555742    0.263813 -0.613362   \n",
       "...           ...          ...        ...           ...         ...       ...   \n",
       "1454    -1.518467     1.280685  -0.273836     -0.555742    0.263813 -0.018120   \n",
       "1455    -1.518467    -0.517200  -0.273836     -0.555742    0.263813 -0.018120   \n",
       "1456    -0.795151     1.280685  -0.605043      0.915562    0.263813  0.312570   \n",
       "1457    -0.795151    -0.517200   0.454820     -0.555742    0.263813 -0.745638   \n",
       "1458     0.651479    -0.517200   0.487941     -0.514873    0.263813 -0.778707   \n",
       "\n",
       "      LotFrontage   LotArea  MasVnrArea  BsmtFinSF1  BsmtFinSF2  BsmtUnfSF  \\\n",
       "0        0.645747  0.110763   -0.570750    0.053428    0.604293  -0.672923   \n",
       "1        0.674605  0.375850    0.027027    1.051363   -0.288653  -0.365032   \n",
       "2        0.472599  0.332053   -0.570750    0.761852   -0.288653  -0.974021   \n",
       "3        0.588031 -0.054002   -0.460051    0.347326   -0.288653  -0.550672   \n",
       "4       -0.421999 -0.552407   -0.570750   -0.396190   -0.288653   1.018211   \n",
       "...           ...       ...         ...         ...         ...        ...   \n",
       "1454    -1.056875 -0.859988   -0.570750   -0.973018   -0.288653  -0.048086   \n",
       "1455    -1.056875 -0.864197   -0.570750   -0.420316   -0.288653  -0.618589   \n",
       "1456     2.954388  0.950423   -0.570750    1.711535   -0.288653  -1.284176   \n",
       "1457     0.126303 -0.007600   -0.570750   -0.233889   -0.288653   0.017567   \n",
       "1458     0.472599 -0.089180   -0.050463    0.689474   -0.288653  -0.745367   \n",
       "\n",
       "      TotalBsmtSF  1stFlrSF  2ndFlrSF  LowQualFinSF  GrLivArea  BsmtFullBath  \\\n",
       "0       -0.400017 -0.689929 -0.795163     -0.120242  -1.179256     -0.819964   \n",
       "1        0.619239  0.430511 -0.795163     -0.120242  -0.354966     -0.819964   \n",
       "2       -0.295127 -0.607125  0.811239     -0.120242   0.216136     -0.819964   \n",
       "3       -0.299687 -0.612300  0.758532     -0.120242   0.168544     -0.819964   \n",
       "4        0.507509  0.303718 -0.795163     -0.120242  -0.448246     -0.819964   \n",
       "...           ...       ...       ...           ...        ...           ...   \n",
       "1454    -1.166169 -1.595596  0.456043     -0.120242  -0.806136     -0.819964   \n",
       "1455    -1.166169 -1.595596  0.456043     -0.120242  -0.806136     -0.819964   \n",
       "1456     0.379817  0.158811 -0.795163     -0.120242  -0.554851      1.107810   \n",
       "1457    -0.331610 -0.498445 -0.795163     -0.120242  -1.038384     -0.819964   \n",
       "1458    -0.140072 -0.431167  1.505590     -0.120242   0.922399     -0.819964   \n",
       "\n",
       "      BsmtHalfBath  FullBath  HalfBath  BedroomAbvGr  KitchenAbvGr  \\\n",
       "0        -0.241061 -1.026041 -0.761621     -1.062465     -0.211454   \n",
       "1        -0.241061 -1.026041  1.227585      0.163779     -0.211454   \n",
       "2        -0.241061  0.789741  1.227585      0.163779     -0.211454   \n",
       "3        -0.241061  0.789741  1.227585      0.163779     -0.211454   \n",
       "4        -0.241061  0.789741 -0.761621     -1.062465     -0.211454   \n",
       "...            ...       ...       ...           ...           ...   \n",
       "1454     -0.241061 -1.026041  1.227585      0.163779     -0.211454   \n",
       "1455     -0.241061 -1.026041  1.227585      0.163779     -0.211454   \n",
       "1456     -0.241061 -1.026041 -0.761621      1.390023     -0.211454   \n",
       "1457      3.948809 -1.026041 -0.761621      0.163779     -0.211454   \n",
       "1458     -0.241061  0.789741  1.227585      0.163779     -0.211454   \n",
       "\n",
       "      TotRmsAbvGrd  Fireplaces  GarageYrBlt  GarageCars  GarageArea  \\\n",
       "0        -0.934130   -0.951226     0.203422   -1.026858    1.202536   \n",
       "1        -0.318683   -0.951226     0.196807   -1.026858   -0.753188   \n",
       "2        -0.318683    0.600495     0.282797    0.311725    0.042202   \n",
       "3         0.296763    0.600495     0.285002    0.311725   -0.013943   \n",
       "4        -0.934130   -0.951226     0.271773    0.311725    0.154492   \n",
       "...            ...         ...          ...         ...         ...   \n",
       "1454     -0.934130   -0.951226    -4.120324   -2.365440   -2.212963   \n",
       "1455     -0.318683   -0.951226     0.223266   -1.026858   -0.874836   \n",
       "1456      0.296763    0.600495     0.201217    0.311725    0.482006   \n",
       "1457     -0.318683   -0.951226    -4.120324   -2.365440   -2.212963   \n",
       "1458      1.527656    0.600495     0.273977    1.650307    0.828234   \n",
       "\n",
       "      WoodDeckSF  OpenPorchSF  EnclosedPorch  3SsnPorch  ScreenPorch  \\\n",
       "0       0.365179    -0.704483      -0.359325  -0.116339     1.882709   \n",
       "1       2.384400    -0.160950      -0.359325  -0.116339    -0.270208   \n",
       "2       0.939819    -0.191147      -0.359325  -0.116339    -0.270208   \n",
       "3       2.121024    -0.160950      -0.359325  -0.116339    -0.270208   \n",
       "4      -0.752176     0.533564      -0.359325  -0.116339     2.313293   \n",
       "...          ...          ...            ...        ...          ...   \n",
       "1454   -0.752176    -0.704483      -0.359325  -0.116339    -0.270208   \n",
       "1455   -0.752176    -0.342128      -0.359325  -0.116339    -0.270208   \n",
       "1456    3.030870    -0.704483      -0.359325  -0.116339    -0.270208   \n",
       "1457   -0.113687    -0.221343      -0.359325  -0.116339    -0.270208   \n",
       "1458    0.764235     0.020227      -0.359325  -0.116339    -0.270208   \n",
       "\n",
       "      PoolArea    MiscVal  MSSubClass_MSSC_120  MSSubClass_MSSC_160  \\\n",
       "0    -0.068692  -0.087688            -0.251724            -0.212360   \n",
       "1    -0.068692  25.116309            -0.251724            -0.212360   \n",
       "2    -0.068692  -0.087688            -0.251724            -0.212360   \n",
       "3    -0.068692  -0.087688            -0.251724            -0.212360   \n",
       "4    -0.068692  -0.087688             3.972607            -0.212360   \n",
       "...        ...        ...                  ...                  ...   \n",
       "1454 -0.068692  -0.087688            -0.251724             4.708992   \n",
       "1455 -0.068692  -0.087688            -0.251724             4.708992   \n",
       "1456 -0.068692  -0.087688            -0.251724            -0.212360   \n",
       "1457 -0.068692   1.323736            -0.251724            -0.212360   \n",
       "1458 -0.068692  -0.087688            -0.251724            -0.212360   \n",
       "\n",
       "      MSSubClass_MSSC_180  MSSubClass_MSSC_190  MSSubClass_MSSC_20  \\\n",
       "0               -0.083045            -0.144841            1.312966   \n",
       "1               -0.083045            -0.144841            1.312966   \n",
       "2               -0.083045            -0.144841           -0.761634   \n",
       "3               -0.083045            -0.144841           -0.761634   \n",
       "4               -0.083045            -0.144841           -0.761634   \n",
       "...                   ...                  ...                 ...   \n",
       "1454            -0.083045            -0.144841           -0.761634   \n",
       "1455            -0.083045            -0.144841           -0.761634   \n",
       "1456            -0.083045            -0.144841            1.312966   \n",
       "1457            -0.083045            -0.144841           -0.761634   \n",
       "1458            -0.083045            -0.144841           -0.761634   \n",
       "\n",
       "      MSSubClass_MSSC_30  MSSubClass_MSSC_40  MSSubClass_MSSC_45  \\\n",
       "0              -0.222721           -0.052414           -0.091035   \n",
       "1              -0.222721           -0.052414           -0.091035   \n",
       "2              -0.222721           -0.052414           -0.091035   \n",
       "3              -0.222721           -0.052414           -0.091035   \n",
       "4              -0.222721           -0.052414           -0.091035   \n",
       "...                  ...                 ...                 ...   \n",
       "1454           -0.222721           -0.052414           -0.091035   \n",
       "1455           -0.222721           -0.052414           -0.091035   \n",
       "1456           -0.222721           -0.052414           -0.091035   \n",
       "1457           -0.222721           -0.052414           -0.091035   \n",
       "1458           -0.222721           -0.052414           -0.091035   \n",
       "\n",
       "      MSSubClass_MSSC_50  MSSubClass_MSSC_60  MSSubClass_MSSC_70  \\\n",
       "0              -0.330791           -0.507481            -0.20702   \n",
       "1              -0.330791           -0.507481            -0.20702   \n",
       "2              -0.330791            1.970518            -0.20702   \n",
       "3              -0.330791            1.970518            -0.20702   \n",
       "4              -0.330791           -0.507481            -0.20702   \n",
       "...                  ...                 ...                 ...   \n",
       "1454           -0.330791           -0.507481            -0.20702   \n",
       "1455           -0.330791           -0.507481            -0.20702   \n",
       "1456           -0.330791           -0.507481            -0.20702   \n",
       "1457           -0.330791           -0.507481            -0.20702   \n",
       "1458           -0.330791            1.970518            -0.20702   \n",
       "\n",
       "      MSSubClass_MSSC_75  MSSubClass_MSSC_80  MSSubClass_MSSC_85  \\\n",
       "0              -0.105263           -0.203395           -0.117851   \n",
       "1              -0.105263           -0.203395           -0.117851   \n",
       "2              -0.105263           -0.203395           -0.117851   \n",
       "3              -0.105263           -0.203395           -0.117851   \n",
       "4              -0.105263           -0.203395           -0.117851   \n",
       "...                  ...                 ...                 ...   \n",
       "1454           -0.105263           -0.203395           -0.117851   \n",
       "1455           -0.105263           -0.203395           -0.117851   \n",
       "1456           -0.105263           -0.203395           -0.117851   \n",
       "1457           -0.105263           -0.203395            8.485281   \n",
       "1458           -0.105263           -0.203395           -0.117851   \n",
       "\n",
       "      MSSubClass_MSSC_90  ...  Functional_Typ  GarageType_2Types  \\\n",
       "0              -0.192177  ...        0.271163          -0.064238   \n",
       "1              -0.192177  ...        0.271163          -0.064238   \n",
       "2              -0.192177  ...        0.271163          -0.064238   \n",
       "3              -0.192177  ...        0.271163          -0.064238   \n",
       "4              -0.192177  ...        0.271163          -0.064238   \n",
       "...                  ...  ...             ...                ...   \n",
       "1454           -0.192177  ...        0.271163          -0.064238   \n",
       "1455           -0.192177  ...        0.271163          -0.064238   \n",
       "1456           -0.192177  ...        0.271163          -0.064238   \n",
       "1457           -0.192177  ...        0.271163          -0.064238   \n",
       "1458           -0.192177  ...        0.271163          -0.064238   \n",
       "\n",
       "      GarageType_Attchd  GarageType_Basment  GarageType_BuiltIn  \\\n",
       "0              0.731591           -0.114827           -0.253259   \n",
       "1              0.731591           -0.114827           -0.253259   \n",
       "2              0.731591           -0.114827           -0.253259   \n",
       "3              0.731591           -0.114827           -0.253259   \n",
       "4              0.731591           -0.114827           -0.253259   \n",
       "...                 ...                 ...                 ...   \n",
       "1454           0.731591           -0.114827           -0.253259   \n",
       "1455          -1.366883           -0.114827           -0.253259   \n",
       "1456          -1.366883           -0.114827           -0.253259   \n",
       "1457           0.731591           -0.114827           -0.253259   \n",
       "1458           0.731591           -0.114827           -0.253259   \n",
       "\n",
       "      GarageType_CarPort  GarageType_Detchd  GarageFinish_Fin  \\\n",
       "0              -0.078757          -0.600559         -0.563640   \n",
       "1              -0.078757          -0.600559         -0.563640   \n",
       "2              -0.078757          -0.600559          1.774184   \n",
       "3              -0.078757          -0.600559          1.774184   \n",
       "4              -0.078757          -0.600559         -0.563640   \n",
       "...                  ...                ...               ...   \n",
       "1454           -0.078757          -0.600559         -0.563640   \n",
       "1455           12.697331          -0.600559         -0.563640   \n",
       "1456           -0.078757           1.665116         -0.563640   \n",
       "1457           -0.078757          -0.600559         -0.563640   \n",
       "1458           -0.078757          -0.600559          1.774184   \n",
       "\n",
       "      GarageFinish_RFn  GarageFinish_Unf  GarageQual_Ex  GarageQual_Fa  \\\n",
       "0            -0.637614          1.062205            0.0      -0.184376   \n",
       "1            -0.637614          1.062205            0.0      -0.184376   \n",
       "2            -0.637614         -0.941438            0.0      -0.184376   \n",
       "3            -0.637614         -0.941438            0.0      -0.184376   \n",
       "4             1.568348         -0.941438            0.0      -0.184376   \n",
       "...                ...               ...            ...            ...   \n",
       "1454         -0.637614          1.062205            0.0      -0.184376   \n",
       "1455         -0.637614          1.062205            0.0      -0.184376   \n",
       "1456         -0.637614          1.062205            0.0      -0.184376   \n",
       "1457         -0.637614          1.062205            0.0      -0.184376   \n",
       "1458         -0.637614         -0.941438            0.0      -0.184376   \n",
       "\n",
       "      GarageQual_Gd  GarageQual_Po  GarageQual_TA  GarageCond_Ex  \\\n",
       "0         -0.098397      -0.045376       0.221022      -0.037037   \n",
       "1         -0.098397      -0.045376       0.221022      -0.037037   \n",
       "2         -0.098397      -0.045376       0.221022      -0.037037   \n",
       "3         -0.098397      -0.045376       0.221022      -0.037037   \n",
       "4         -0.098397      -0.045376       0.221022      -0.037037   \n",
       "...             ...            ...            ...            ...   \n",
       "1454      -0.098397      -0.045376       0.221022      -0.037037   \n",
       "1455      -0.098397      -0.045376       0.221022      -0.037037   \n",
       "1456      -0.098397      -0.045376       0.221022      -0.037037   \n",
       "1457      -0.098397      -0.045376       0.221022      -0.037037   \n",
       "1458      -0.098397      -0.045376       0.221022      -0.037037   \n",
       "\n",
       "      GarageCond_Fa  GarageCond_Gd  GarageCond_Po  GarageCond_TA  \\\n",
       "0         -0.156721      -0.078757      -0.069409       0.194085   \n",
       "1         -0.156721      -0.078757      -0.069409       0.194085   \n",
       "2         -0.156721      -0.078757      -0.069409       0.194085   \n",
       "3         -0.156721      -0.078757      -0.069409       0.194085   \n",
       "4         -0.156721      -0.078757      -0.069409       0.194085   \n",
       "...             ...            ...            ...            ...   \n",
       "1454      -0.156721      -0.078757      -0.069409       0.194085   \n",
       "1455      -0.156721      -0.078757      -0.069409       0.194085   \n",
       "1456      -0.156721      -0.078757      -0.069409       0.194085   \n",
       "1457      -0.156721      -0.078757      -0.069409       0.194085   \n",
       "1458      -0.156721      -0.078757      -0.069409       0.194085   \n",
       "\n",
       "      PavedDrive_N  PavedDrive_P  PavedDrive_Y  SaleType_COD  SaleType_CWD  \\\n",
       "0        -0.256307     -0.144841      0.299253       -0.1742     -0.052414   \n",
       "1        -0.256307     -0.144841      0.299253       -0.1742     -0.052414   \n",
       "2        -0.256307     -0.144841      0.299253       -0.1742     -0.052414   \n",
       "3        -0.256307     -0.144841      0.299253       -0.1742     -0.052414   \n",
       "4        -0.256307     -0.144841      0.299253       -0.1742     -0.052414   \n",
       "...            ...           ...           ...           ...           ...   \n",
       "1454     -0.256307     -0.144841      0.299253       -0.1742     -0.052414   \n",
       "1455     -0.256307     -0.144841      0.299253       -0.1742     -0.052414   \n",
       "1456     -0.256307     -0.144841      0.299253       -0.1742     -0.052414   \n",
       "1457     -0.256307     -0.144841      0.299253       -0.1742     -0.052414   \n",
       "1458     -0.256307     -0.144841      0.299253       -0.1742     -0.052414   \n",
       "\n",
       "      SaleType_Con  SaleType_ConLD  SaleType_ConLI  SaleType_ConLw  \\\n",
       "0        -0.037037       -0.078757       -0.058621       -0.058621   \n",
       "1        -0.037037       -0.078757       -0.058621       -0.058621   \n",
       "2        -0.037037       -0.078757       -0.058621       -0.058621   \n",
       "3        -0.037037       -0.078757       -0.058621       -0.058621   \n",
       "4        -0.037037       -0.078757       -0.058621       -0.058621   \n",
       "...            ...             ...             ...             ...   \n",
       "1454     -0.037037       -0.078757       -0.058621       -0.058621   \n",
       "1455     -0.037037       -0.078757       -0.058621       -0.058621   \n",
       "1456     -0.037037       -0.078757       -0.058621       -0.058621   \n",
       "1457     -0.037037       -0.078757       -0.058621       -0.058621   \n",
       "1458     -0.037037       -0.078757       -0.058621       -0.058621   \n",
       "\n",
       "      SaleType_New  SaleType_Oth  SaleType_WD  SaleCondition_Abnorml  \\\n",
       "0        -0.301962     -0.045376     0.390293              -0.272616   \n",
       "1        -0.301962     -0.045376     0.390293              -0.272616   \n",
       "2        -0.301962     -0.045376     0.390293              -0.272616   \n",
       "3        -0.301962     -0.045376     0.390293              -0.272616   \n",
       "4        -0.301962     -0.045376     0.390293              -0.272616   \n",
       "...            ...           ...          ...                    ...   \n",
       "1454     -0.301962     -0.045376     0.390293              -0.272616   \n",
       "1455     -0.301962     -0.045376     0.390293               3.668167   \n",
       "1456     -0.301962     -0.045376     0.390293               3.668167   \n",
       "1457     -0.301962     -0.045376     0.390293              -0.272616   \n",
       "1458     -0.301962     -0.045376     0.390293              -0.272616   \n",
       "\n",
       "      SaleCondition_AdjLand  SaleCondition_Alloca  SaleCondition_Family  \\\n",
       "0                 -0.052414             -0.091035             -0.117851   \n",
       "1                 -0.052414             -0.091035             -0.117851   \n",
       "2                 -0.052414             -0.091035             -0.117851   \n",
       "3                 -0.052414             -0.091035             -0.117851   \n",
       "4                 -0.052414             -0.091035             -0.117851   \n",
       "...                     ...                   ...                   ...   \n",
       "1454              -0.052414             -0.091035             -0.117851   \n",
       "1455              -0.052414             -0.091035             -0.117851   \n",
       "1456              -0.052414             -0.091035             -0.117851   \n",
       "1457              -0.052414             -0.091035             -0.117851   \n",
       "1458              -0.052414             -0.091035             -0.117851   \n",
       "\n",
       "      SaleCondition_Normal  SaleCondition_Partial  sold_April  sold_August  \\\n",
       "0                 0.467651              -0.305995   -0.326954    -0.301962   \n",
       "1                 0.467651              -0.305995   -0.326954    -0.301962   \n",
       "2                 0.467651              -0.305995   -0.326954    -0.301962   \n",
       "3                 0.467651              -0.305995   -0.326954    -0.301962   \n",
       "4                 0.467651              -0.305995   -0.326954    -0.301962   \n",
       "...                    ...                    ...         ...          ...   \n",
       "1454              0.467651              -0.305995   -0.326954    -0.301962   \n",
       "1455             -2.138345              -0.305995    3.058531    -0.301962   \n",
       "1456             -2.138345              -0.305995   -0.326954    -0.301962   \n",
       "1457              0.467651              -0.305995   -0.326954    -0.301962   \n",
       "1458              0.467651              -0.305995   -0.326954    -0.301962   \n",
       "\n",
       "      sold_December  sold_February  sold_January  sold_July  sold_June  \\\n",
       "0         -0.205214      -0.192177     -0.203395  -0.436881   2.184205   \n",
       "1         -0.205214      -0.192177     -0.203395  -0.436881   2.184205   \n",
       "2         -0.205214      -0.192177     -0.203395  -0.436881  -0.457833   \n",
       "3         -0.205214      -0.192177     -0.203395  -0.436881   2.184205   \n",
       "4         -0.205214      -0.192177      4.916545  -0.436881  -0.457833   \n",
       "...             ...            ...           ...        ...        ...   \n",
       "1454      -0.205214      -0.192177     -0.203395  -0.436881   2.184205   \n",
       "1455      -0.205214      -0.192177     -0.203395  -0.436881  -0.457833   \n",
       "1456      -0.205214      -0.192177     -0.203395  -0.436881  -0.457833   \n",
       "1457      -0.205214      -0.192177     -0.203395   2.288955  -0.457833   \n",
       "1458      -0.205214      -0.192177     -0.203395  -0.436881  -0.457833   \n",
       "\n",
       "      sold_March  sold_May  sold_November  sold_October  sold_September  \n",
       "0      -0.279797 -0.403014      -0.239176     -0.254786       -0.212360  \n",
       "1      -0.279797 -0.403014      -0.239176     -0.254786       -0.212360  \n",
       "2       3.574015 -0.403014      -0.239176     -0.254786       -0.212360  \n",
       "3      -0.279797 -0.403014      -0.239176     -0.254786       -0.212360  \n",
       "4      -0.279797 -0.403014      -0.239176     -0.254786       -0.212360  \n",
       "...          ...       ...            ...           ...             ...  \n",
       "1454   -0.279797 -0.403014      -0.239176     -0.254786       -0.212360  \n",
       "1455   -0.279797 -0.403014      -0.239176     -0.254786       -0.212360  \n",
       "1456   -0.279797 -0.403014      -0.239176     -0.254786        4.708992  \n",
       "1457   -0.279797 -0.403014      -0.239176     -0.254786       -0.212360  \n",
       "1458   -0.279797 -0.403014       4.181030     -0.254786       -0.212360  \n",
       "\n",
       "[1459 rows x 294 columns]"
      ]
     },
     "execution_count": 49,
     "metadata": {},
     "output_type": "execute_result"
    }
   ],
   "source": [
    "X_test_scale_final"
   ]
  },
  {
   "cell_type": "markdown",
   "id": "3674073f",
   "metadata": {},
   "source": [
    "---"
   ]
  },
  {
   "cell_type": "code",
   "execution_count": 38,
   "id": "1271edf1",
   "metadata": {
    "ExecuteTime": {
     "end_time": "2023-01-15T19:18:56.061062Z",
     "start_time": "2023-01-15T19:18:56.042558Z"
    }
   },
   "outputs": [],
   "source": [
    "Y_test_pred = linear_model.predict(np.array(X_test_scale_final))"
   ]
  },
  {
   "cell_type": "code",
   "execution_count": null,
   "id": "166ca188",
   "metadata": {},
   "outputs": [],
   "source": []
  },
  {
   "cell_type": "code",
   "execution_count": 57,
   "id": "05a88d0d",
   "metadata": {
    "ExecuteTime": {
     "end_time": "2023-01-15T19:27:29.887071Z",
     "start_time": "2023-01-15T19:27:29.801559Z"
    }
   },
   "outputs": [],
   "source": [
    "Y_test_pred = random_forest.predict(np.array(X_test_scale_final))"
   ]
  },
  {
   "cell_type": "code",
   "execution_count": null,
   "id": "2118a4ae",
   "metadata": {},
   "outputs": [],
   "source": []
  },
  {
   "cell_type": "code",
   "execution_count": null,
   "id": "8ec9f86c",
   "metadata": {},
   "outputs": [],
   "source": []
  },
  {
   "cell_type": "code",
   "execution_count": 63,
   "id": "3c039d12",
   "metadata": {
    "ExecuteTime": {
     "end_time": "2023-01-15T19:30:55.242031Z",
     "start_time": "2023-01-15T19:30:55.228796Z"
    }
   },
   "outputs": [
    {
     "data": {
      "text/plain": [
       "range(1461, 2919)"
      ]
     },
     "execution_count": 63,
     "metadata": {},
     "output_type": "execute_result"
    }
   ],
   "source": []
  },
  {
   "cell_type": "code",
   "execution_count": 75,
   "id": "b2be7823",
   "metadata": {
    "ExecuteTime": {
     "end_time": "2023-01-15T19:34:17.438867Z",
     "start_time": "2023-01-15T19:34:17.397987Z"
    }
   },
   "outputs": [
    {
     "data": {
      "text/html": [
       "<div>\n",
       "<style scoped>\n",
       "    .dataframe tbody tr th:only-of-type {\n",
       "        vertical-align: middle;\n",
       "    }\n",
       "\n",
       "    .dataframe tbody tr th {\n",
       "        vertical-align: top;\n",
       "    }\n",
       "\n",
       "    .dataframe thead th {\n",
       "        text-align: right;\n",
       "    }\n",
       "</style>\n",
       "<table border=\"1\" class=\"dataframe\">\n",
       "  <thead>\n",
       "    <tr style=\"text-align: right;\">\n",
       "      <th></th>\n",
       "      <th>SalePrice</th>\n",
       "    </tr>\n",
       "    <tr>\n",
       "      <th>Id</th>\n",
       "      <th></th>\n",
       "    </tr>\n",
       "  </thead>\n",
       "  <tbody>\n",
       "    <tr>\n",
       "      <th>1461</th>\n",
       "      <td>130219.50</td>\n",
       "    </tr>\n",
       "    <tr>\n",
       "      <th>1462</th>\n",
       "      <td>153467.72</td>\n",
       "    </tr>\n",
       "    <tr>\n",
       "      <th>1463</th>\n",
       "      <td>178361.56</td>\n",
       "    </tr>\n",
       "    <tr>\n",
       "      <th>1464</th>\n",
       "      <td>184742.50</td>\n",
       "    </tr>\n",
       "    <tr>\n",
       "      <th>1465</th>\n",
       "      <td>198355.42</td>\n",
       "    </tr>\n",
       "    <tr>\n",
       "      <th>...</th>\n",
       "      <td>...</td>\n",
       "    </tr>\n",
       "    <tr>\n",
       "      <th>2915</th>\n",
       "      <td>84317.00</td>\n",
       "    </tr>\n",
       "    <tr>\n",
       "      <th>2916</th>\n",
       "      <td>86261.00</td>\n",
       "    </tr>\n",
       "    <tr>\n",
       "      <th>2917</th>\n",
       "      <td>149045.50</td>\n",
       "    </tr>\n",
       "    <tr>\n",
       "      <th>2918</th>\n",
       "      <td>113029.47</td>\n",
       "    </tr>\n",
       "    <tr>\n",
       "      <th>2919</th>\n",
       "      <td>227579.50</td>\n",
       "    </tr>\n",
       "  </tbody>\n",
       "</table>\n",
       "<p>1459 rows × 1 columns</p>\n",
       "</div>"
      ],
      "text/plain": [
       "      SalePrice\n",
       "Id             \n",
       "1461  130219.50\n",
       "1462  153467.72\n",
       "1463  178361.56\n",
       "1464  184742.50\n",
       "1465  198355.42\n",
       "...         ...\n",
       "2915   84317.00\n",
       "2916   86261.00\n",
       "2917  149045.50\n",
       "2918  113029.47\n",
       "2919  227579.50\n",
       "\n",
       "[1459 rows x 1 columns]"
      ]
     },
     "execution_count": 75,
     "metadata": {},
     "output_type": "execute_result"
    }
   ],
   "source": [
    "df_submission"
   ]
  },
  {
   "cell_type": "code",
   "execution_count": 68,
   "id": "4587fe18",
   "metadata": {
    "ExecuteTime": {
     "end_time": "2023-01-15T19:31:34.158550Z",
     "start_time": "2023-01-15T19:31:34.149990Z"
    }
   },
   "outputs": [],
   "source": [
    "df_submission = pd.DataFrame(Y_test_pred, index=range(1461, 2920))\n",
    "df_submission.columns = ['SalePrice']\n",
    "df_submission.index.name = 'Id'"
   ]
  },
  {
   "cell_type": "code",
   "execution_count": 74,
   "id": "d4a3d5c0",
   "metadata": {
    "ExecuteTime": {
     "end_time": "2023-01-15T19:33:32.028399Z",
     "start_time": "2023-01-15T19:33:31.995670Z"
    }
   },
   "outputs": [],
   "source": [
    "df_submission.to_csv('submission_15_january_2023.csv')"
   ]
  },
  {
   "cell_type": "code",
   "execution_count": 26,
   "id": "b6146587",
   "metadata": {
    "ExecuteTime": {
     "end_time": "2023-01-15T19:26:24.765415Z",
     "start_time": "2023-01-15T19:26:24.755387Z"
    }
   },
   "outputs": [],
   "source": [
    "train_eval_metrics = math.sqrt(mean_squared_error(Y_train_pred, Y_train))"
   ]
  },
  {
   "cell_type": "code",
   "execution_count": 27,
   "id": "4170ff59",
   "metadata": {
    "ExecuteTime": {
     "end_time": "2023-01-15T19:26:25.155080Z",
     "start_time": "2023-01-15T19:26:25.146109Z"
    }
   },
   "outputs": [
    {
     "data": {
      "text/plain": [
       "20809.892056569515"
      ]
     },
     "execution_count": 27,
     "metadata": {},
     "output_type": "execute_result"
    }
   ],
   "source": [
    "train_eval_metrics"
   ]
  },
  {
   "cell_type": "markdown",
   "id": "4a0cab3e",
   "metadata": {},
   "source": [
    "# Resources"
   ]
  },
  {
   "cell_type": "markdown",
   "id": "a0477648",
   "metadata": {},
   "source": [
    "https://towardsdatascience.com/7-data-types-a-better-way-to-think-about-data-types-for-machine-learning-939fae99a689"
   ]
  },
  {
   "cell_type": "markdown",
   "id": "c6becf47",
   "metadata": {},
   "source": [
    "https://medium.com/analytics-vidhya/ways-to-handle-categorical-column-missing-data-its-implementations-15dc4a56893#:~:text=Step%201%3A%20Find%20which%20category,and%20keep%20newly%20imputed%20columns.&text=Advantage%3A%20Simple%20and%20easy%20to%20implement%20for%20categorical%20variables%2Fcolumns.\n",
    "\n"
   ]
  },
  {
   "cell_type": "markdown",
   "id": "25583935",
   "metadata": {},
   "source": [
    "https://stackoverflow.com/questions/62653114/how-can-i-deal-with-this-git-warning-pulling-without-specifying-how-to-reconci"
   ]
  },
  {
   "cell_type": "markdown",
   "id": "d32368c5",
   "metadata": {},
   "source": [
    "# Archive"
   ]
  },
  {
   "cell_type": "markdown",
   "id": "07874511",
   "metadata": {},
   "source": [
    "## Linear Regression Simplification"
   ]
  },
  {
   "cell_type": "code",
   "execution_count": 151,
   "id": "baf8cb00",
   "metadata": {
    "ExecuteTime": {
     "end_time": "2023-01-15T18:45:11.304530Z",
     "start_time": "2023-01-15T18:45:11.296873Z"
    }
   },
   "outputs": [],
   "source": [
    "from sklearn.datasets import fetch_california_housing\n",
    "from sklearn.model_selection import train_test_split"
   ]
  },
  {
   "cell_type": "code",
   "execution_count": 163,
   "id": "9a19c370",
   "metadata": {
    "ExecuteTime": {
     "end_time": "2023-01-15T18:47:09.247166Z",
     "start_time": "2023-01-15T18:47:09.169247Z"
    }
   },
   "outputs": [],
   "source": [
    "X = fetch_california_housing()['data']\n",
    "X = pd.DataFrame(X, columns=fetch_california_housing()['feature_names'])\n",
    "Y = fetch_california_housing()['target']\n",
    "Y = pd.DataFrame(Y, columns = fetch_california_housing()['target_names'])"
   ]
  },
  {
   "cell_type": "code",
   "execution_count": 153,
   "id": "ba50efff",
   "metadata": {
    "ExecuteTime": {
     "end_time": "2023-01-15T18:45:31.012087Z",
     "start_time": "2023-01-15T18:45:30.993849Z"
    }
   },
   "outputs": [],
   "source": [
    "X_train, X_test = train_test_split(X, test_size=0.2)\n",
    "\n",
    "Y_train = Y.iloc[X_train.index]\n",
    "Y_test = Y.drop(X_train.index)"
   ]
  },
  {
   "cell_type": "code",
   "execution_count": 190,
   "id": "f486f096",
   "metadata": {
    "ExecuteTime": {
     "end_time": "2023-01-15T18:53:13.902892Z",
     "start_time": "2023-01-15T18:53:13.888028Z"
    }
   },
   "outputs": [],
   "source": [
    "def zscore_normalize_features(X, mu = False, sigma = False):\n",
    "    \"\"\"\n",
    "    computes  X, zcore normalized by column\n",
    "    \n",
    "    Args:\n",
    "      X (ndarray (m,n))     : input data, m examples, n features\n",
    "      \n",
    "    Returns:\n",
    "      X_norm (ndarray (m,n)): input normalized by column\n",
    "      mu (ndarray (n,))     : mean of each feature\n",
    "      sigma (ndarray (n,))  : standard deviation of each feature\n",
    "    \"\"\"\n",
    "    \n",
    "    if (mu is False) and (sigma is False):\n",
    "        # find the mean of each column/feature\n",
    "        mu     = np.mean(X, axis=0)                 # mu will have shape (n,)\n",
    "        # find the standard deviation of each column/feature\n",
    "        sigma  = np.std(X, axis=0)                  # sigma will have shape (n,)\n",
    "        # element-wise, subtract mu for that column from each example, divide by std for that column\n",
    "        \n",
    "    X_norm = (X - mu) / sigma      \n",
    "\n",
    "    return (X_norm, mu, sigma)"
   ]
  },
  {
   "cell_type": "code",
   "execution_count": 211,
   "id": "e1f529d5",
   "metadata": {
    "ExecuteTime": {
     "end_time": "2023-01-15T18:58:45.973618Z",
     "start_time": "2023-01-15T18:58:45.943380Z"
    }
   },
   "outputs": [],
   "source": [
    "X_train_scale, mu, sigma = zscore_normalize_features(X_train, mu = False, sigma = False)"
   ]
  },
  {
   "cell_type": "code",
   "execution_count": 212,
   "id": "7d28a453",
   "metadata": {
    "ExecuteTime": {
     "end_time": "2023-01-15T18:58:46.318164Z",
     "start_time": "2023-01-15T18:58:46.301403Z"
    }
   },
   "outputs": [],
   "source": [
    "X_test_scale, mu_2, sigma_2 = zscore_normalize_features(X_test, mu = mu, sigma = sigma)"
   ]
  },
  {
   "cell_type": "code",
   "execution_count": 203,
   "id": "785b5238",
   "metadata": {
    "ExecuteTime": {
     "end_time": "2023-01-15T18:57:32.431883Z",
     "start_time": "2023-01-15T18:57:32.376412Z"
    }
   },
   "outputs": [
    {
     "data": {
      "text/plain": [
       "LinearRegression()"
      ]
     },
     "execution_count": 203,
     "metadata": {},
     "output_type": "execute_result"
    }
   ],
   "source": [
    "linear_model = LinearRegression() \n",
    "linear_model.fit(X_train_scale, Y_train)"
   ]
  },
  {
   "cell_type": "code",
   "execution_count": 214,
   "id": "b6a37ba7",
   "metadata": {
    "ExecuteTime": {
     "end_time": "2023-01-15T18:59:43.562833Z",
     "start_time": "2023-01-15T18:59:43.541988Z"
    }
   },
   "outputs": [],
   "source": [
    "Y_train_pred = linear_model.predict(X_train_scale)"
   ]
  },
  {
   "cell_type": "code",
   "execution_count": 215,
   "id": "99ea9123",
   "metadata": {
    "ExecuteTime": {
     "end_time": "2023-01-15T18:59:44.079705Z",
     "start_time": "2023-01-15T18:59:44.065590Z"
    }
   },
   "outputs": [],
   "source": [
    "Y_test_pred = linear_model.predict(X_test_scale)"
   ]
  },
  {
   "cell_type": "code",
   "execution_count": 216,
   "id": "d3a2184d",
   "metadata": {
    "ExecuteTime": {
     "end_time": "2023-01-15T19:00:36.014898Z",
     "start_time": "2023-01-15T19:00:35.995247Z"
    }
   },
   "outputs": [
    {
     "data": {
      "text/plain": [
       "0.7215088154647735"
      ]
     },
     "execution_count": 216,
     "metadata": {},
     "output_type": "execute_result"
    }
   ],
   "source": [
    "math.sqrt(mean_squared_error(Y_train_pred, Y_train))"
   ]
  },
  {
   "cell_type": "code",
   "execution_count": 217,
   "id": "9153d145",
   "metadata": {
    "ExecuteTime": {
     "end_time": "2023-01-15T19:00:48.125780Z",
     "start_time": "2023-01-15T19:00:48.095543Z"
    }
   },
   "outputs": [
    {
     "data": {
      "text/plain": [
       "1.4719059330502595"
      ]
     },
     "execution_count": 217,
     "metadata": {},
     "output_type": "execute_result"
    }
   ],
   "source": [
    "math.sqrt(mean_squared_error(Y_test_pred, Y_test))"
   ]
  }
 ],
 "metadata": {
  "kernelspec": {
   "display_name": "Python 3 (ipykernel)",
   "language": "python",
   "name": "python3"
  },
  "language_info": {
   "codemirror_mode": {
    "name": "ipython",
    "version": 3
   },
   "file_extension": ".py",
   "mimetype": "text/x-python",
   "name": "python",
   "nbconvert_exporter": "python",
   "pygments_lexer": "ipython3",
   "version": "3.8.11"
  },
  "toc": {
   "base_numbering": 1,
   "nav_menu": {},
   "number_sections": true,
   "sideBar": true,
   "skip_h1_title": false,
   "title_cell": "Table of Contents",
   "title_sidebar": "Contents",
   "toc_cell": false,
   "toc_position": {},
   "toc_section_display": true,
   "toc_window_display": false
  }
 },
 "nbformat": 4,
 "nbformat_minor": 5
}
