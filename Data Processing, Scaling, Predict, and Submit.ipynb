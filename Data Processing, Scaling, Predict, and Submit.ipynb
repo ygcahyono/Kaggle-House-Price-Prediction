{
 "cells": [
  {
   "cell_type": "markdown",
   "id": "31780e5a",
   "metadata": {},
   "source": [
    "# Introduction"
   ]
  },
  {
   "cell_type": "code",
   "execution_count": 1,
   "id": "048f5ba6",
   "metadata": {
    "ExecuteTime": {
     "end_time": "2023-01-15T20:04:46.480172Z",
     "start_time": "2023-01-15T20:04:44.894081Z"
    }
   },
   "outputs": [],
   "source": [
    "import pandas as pd\n",
    "import numpy as np\n",
    "import calendar\n",
    "pd.set_option('display.max_columns', 100)"
   ]
  },
  {
   "cell_type": "markdown",
   "id": "a675a04b",
   "metadata": {},
   "source": [
    "## Function"
   ]
  },
  {
   "cell_type": "markdown",
   "id": "7aa9ea7e",
   "metadata": {},
   "source": [
    "### Preprocessing Data"
   ]
  },
  {
   "cell_type": "code",
   "execution_count": 2,
   "id": "baeb3b44",
   "metadata": {
    "ExecuteTime": {
     "end_time": "2023-01-15T20:04:46.492700Z",
     "start_time": "2023-01-15T20:04:46.481775Z"
    }
   },
   "outputs": [],
   "source": [
    "def X_preprocessing(df):\n",
    "    '''\n",
    "    '''\n",
    "    \n",
    "    # checking resposne variable\n",
    "    column_interval_dup = column_interval.copy()\n",
    "    if 'SalePrice' not in df:\n",
    "        column_interval_dup.remove('SalePrice')\n",
    "        \n",
    "    # drop useless column \"id\"\n",
    "    df = df.drop('Id', axis=1)\n",
    "    \n",
    "    df_nominal = df[column_nominal].copy()\n",
    "    df_interval = df[column_interval_dup].copy()\n",
    "\n",
    "    # preprocessing on interval dataframe\n",
    "    ## simple null value imputation: interval to 0\n",
    "    ## concat to the actual table\n",
    "    df_interval = df_interval.fillna(0)\n",
    "    df = df.drop(column_interval_dup, axis=1)\n",
    "    df = pd.concat([df, df_interval], axis=1)\n",
    "\n",
    "    # binary data convesion\n",
    "    df['CentralAir'] = df[column_binary]['CentralAir'].apply(lambda x: 1 if x == 'Y' else 0)\n",
    "\n",
    "    # preprocessing on nonimal dataframe\n",
    "    ## simple null value imputation: categorical to NaN\n",
    "    df_nominal = df_nominal.drop(col_major_missing, axis = 1)\n",
    "    df_nominal = df_nominal.fillna(nominal_mode)\n",
    "    \n",
    "\n",
    "    ## convert MSSubClass value to string\n",
    "    df_nominal['MSSubClass'] = df_nominal['MSSubClass'].astype('string')\n",
    "    df_nominal['MSSubClass'] = df_nominal['MSSubClass'].apply(lambda x: 'MSSC_'+x)\n",
    "\n",
    "    ## all set, convert all the categorical variable to dummies variables\n",
    "    df_nominal = pd.get_dummies(df_nominal)\n",
    "\n",
    "    ## concat to the actual table\n",
    "    df = df.drop(column_nominal, axis=1)\n",
    "    df = pd.concat([df, df_nominal], axis=1)\n",
    "\n",
    "    # preprocessing on time dataframe\n",
    "    ## time approach-renovation: comparing to the year built\n",
    "    ## time approach-soldyear: comparing to the year built\n",
    "    df['YearRemodAdd'] = df[column_time]['YearRemodAdd'] - df[column_time]['YearBuilt'] \n",
    "    df['YrSold'] = df[column_time]['YrSold'] - df[column_time]['YearBuilt']\n",
    "\n",
    "    ## time approach-built: comparing to the oldest listing on the market\n",
    "    df_yrbuilt_min = df[column_time]['YearBuilt'].min()\n",
    "    df['YearBuilt'] = df[column_time]['YearBuilt'].apply(lambda x: x - df_yrbuilt_min)\n",
    "\n",
    "    ## time apprach-soldmonth: to dummies variable\n",
    "    df['MoSold'] = df['MoSold'].apply(lambda x: 'sold_'+calendar.month_name[x])\n",
    "    df_dum_months = pd.get_dummies(df['MoSold'])\n",
    "    df = df.drop(['MoSold'], axis=1)\n",
    "\n",
    "    df = pd.concat([df,df_dum_months], axis=1)\n",
    "\n",
    "    if 'SalePrice' in df:\n",
    "    # final to split between dependent variable to resposne\n",
    "        X = df.drop('SalePrice', axis=1)\n",
    "        y = df['SalePrice']\n",
    "\n",
    "    else:\n",
    "        print('This is test dataset return only X...')\n",
    "        X = df.copy()\n",
    "        y = None\n",
    "\n",
    "    return X, y"
   ]
  },
  {
   "cell_type": "markdown",
   "id": "57b3f241",
   "metadata": {},
   "source": [
    "## Import data(s)"
   ]
  },
  {
   "cell_type": "code",
   "execution_count": 3,
   "id": "013d4a53",
   "metadata": {
    "ExecuteTime": {
     "end_time": "2023-01-15T20:04:47.769407Z",
     "start_time": "2023-01-15T20:04:47.725272Z"
    }
   },
   "outputs": [],
   "source": [
    "train_df = pd.read_csv('data/train.csv')\n",
    "df_cols_process = pd.read_csv('data/column_types_and_process_imputation.csv')"
   ]
  },
  {
   "cell_type": "code",
   "execution_count": 4,
   "id": "0983957e",
   "metadata": {
    "ExecuteTime": {
     "end_time": "2023-01-15T20:04:48.662749Z",
     "start_time": "2023-01-15T20:04:48.631643Z"
    }
   },
   "outputs": [
    {
     "data": {
      "text/html": [
       "<div>\n",
       "<style scoped>\n",
       "    .dataframe tbody tr th:only-of-type {\n",
       "        vertical-align: middle;\n",
       "    }\n",
       "\n",
       "    .dataframe tbody tr th {\n",
       "        vertical-align: top;\n",
       "    }\n",
       "\n",
       "    .dataframe thead th {\n",
       "        text-align: right;\n",
       "    }\n",
       "</style>\n",
       "<table border=\"1\" class=\"dataframe\">\n",
       "  <thead>\n",
       "    <tr style=\"text-align: right;\">\n",
       "      <th></th>\n",
       "      <th>no</th>\n",
       "      <th>column</th>\n",
       "      <th>count null</th>\n",
       "      <th>data type</th>\n",
       "      <th>description</th>\n",
       "      <th>data types</th>\n",
       "      <th>data process</th>\n",
       "      <th>imputation</th>\n",
       "    </tr>\n",
       "  </thead>\n",
       "  <tbody>\n",
       "    <tr>\n",
       "      <th>0</th>\n",
       "      <td>1</td>\n",
       "      <td>Id</td>\n",
       "      <td>1460 non-null</td>\n",
       "      <td>int64</td>\n",
       "      <td>unique</td>\n",
       "      <td>useless</td>\n",
       "      <td>drop</td>\n",
       "      <td>NaN</td>\n",
       "    </tr>\n",
       "    <tr>\n",
       "      <th>1</th>\n",
       "      <td>2</td>\n",
       "      <td>MSSubClass</td>\n",
       "      <td>1460 non-null</td>\n",
       "      <td>int64</td>\n",
       "      <td>Identifies the type of dwelling involved in th...</td>\n",
       "      <td>nominal</td>\n",
       "      <td>one-hot-encoding</td>\n",
       "      <td>NaN</td>\n",
       "    </tr>\n",
       "    <tr>\n",
       "      <th>2</th>\n",
       "      <td>3</td>\n",
       "      <td>MSZoning</td>\n",
       "      <td>1460 non-null</td>\n",
       "      <td>object</td>\n",
       "      <td>Identifies the general zoning classification o...</td>\n",
       "      <td>nominal</td>\n",
       "      <td>one-hot-encoding</td>\n",
       "      <td>NaN</td>\n",
       "    </tr>\n",
       "    <tr>\n",
       "      <th>3</th>\n",
       "      <td>4</td>\n",
       "      <td>LotFrontage</td>\n",
       "      <td>1201 non-null</td>\n",
       "      <td>float64</td>\n",
       "      <td>Linear feet of street connected to property</td>\n",
       "      <td>interval</td>\n",
       "      <td>as is</td>\n",
       "      <td>NaN</td>\n",
       "    </tr>\n",
       "    <tr>\n",
       "      <th>4</th>\n",
       "      <td>5</td>\n",
       "      <td>LotArea</td>\n",
       "      <td>1460 non-null</td>\n",
       "      <td>int64</td>\n",
       "      <td>Lot size in square feet</td>\n",
       "      <td>interval</td>\n",
       "      <td>as is</td>\n",
       "      <td>NaN</td>\n",
       "    </tr>\n",
       "  </tbody>\n",
       "</table>\n",
       "</div>"
      ],
      "text/plain": [
       "   no       column     count null data type  \\\n",
       "0   1           Id  1460 non-null     int64   \n",
       "1   2   MSSubClass  1460 non-null     int64   \n",
       "2   3     MSZoning  1460 non-null    object   \n",
       "3   4  LotFrontage  1201 non-null   float64   \n",
       "4   5      LotArea  1460 non-null     int64   \n",
       "\n",
       "                                         description data types  \\\n",
       "0                                             unique    useless   \n",
       "1  Identifies the type of dwelling involved in th...    nominal   \n",
       "2  Identifies the general zoning classification o...    nominal   \n",
       "3        Linear feet of street connected to property   interval   \n",
       "4                            Lot size in square feet   interval   \n",
       "\n",
       "       data process  imputation  \n",
       "0              drop         NaN  \n",
       "1  one-hot-encoding         NaN  \n",
       "2  one-hot-encoding         NaN  \n",
       "3             as is         NaN  \n",
       "4             as is         NaN  "
      ]
     },
     "execution_count": 4,
     "metadata": {},
     "output_type": "execute_result"
    }
   ],
   "source": [
    "df_cols_process.head()"
   ]
  },
  {
   "cell_type": "markdown",
   "id": "5df13964",
   "metadata": {},
   "source": [
    "## Data Exploration"
   ]
  },
  {
   "cell_type": "markdown",
   "id": "0c7587ca",
   "metadata": {},
   "source": [
    "-> Numerical - Categorical (two general groups) <- \n",
    "\n",
    "- Useless (unique identifier usually useless)\n",
    "- Nominal (as named or categorical)\n",
    "- Binary (either 1/0)\n",
    "- Ordinal (Ordinal)\n",
    "- Count (Integer number starting from 0 exclude negative number)\n",
    "- Time (consiting seasonal and date)\n",
    "- Interval (Examples include percentages, temperatures, and income.)"
   ]
  },
  {
   "cell_type": "code",
   "execution_count": 5,
   "id": "b66fe1d0",
   "metadata": {
    "ExecuteTime": {
     "end_time": "2023-01-15T20:04:54.433595Z",
     "start_time": "2023-01-15T20:04:54.423134Z"
    }
   },
   "outputs": [],
   "source": [
    "df_cols_process['data types'] = df_cols_process['data types'].apply(lambda x: x.strip())"
   ]
  },
  {
   "cell_type": "code",
   "execution_count": 6,
   "id": "83d0ea97",
   "metadata": {
    "ExecuteTime": {
     "end_time": "2023-01-15T20:04:55.572898Z",
     "start_time": "2023-01-15T20:04:55.562493Z"
    }
   },
   "outputs": [
    {
     "data": {
      "text/plain": [
       "array(['useless', 'nominal', 'interval', 'ordinal', 'time', 'binary'],\n",
       "      dtype=object)"
      ]
     },
     "execution_count": 6,
     "metadata": {},
     "output_type": "execute_result"
    }
   ],
   "source": [
    "df_cols_process['data types'].unique()"
   ]
  },
  {
   "cell_type": "code",
   "execution_count": 7,
   "id": "4859b79f",
   "metadata": {
    "ExecuteTime": {
     "end_time": "2023-01-15T20:04:57.187036Z",
     "start_time": "2023-01-15T20:04:57.162333Z"
    }
   },
   "outputs": [],
   "source": [
    "column_interval = list(df_cols_process[df_cols_process['data types'] == 'interval']['column']) # no need processing\n",
    "column_nominal = list(df_cols_process[df_cols_process['data types'] == 'nominal']['column']) \n",
    "column_ordinal = list(df_cols_process[df_cols_process['data types'] == 'ordinal']['column']) # no need processing\n",
    "column_binary = list(df_cols_process[df_cols_process['data types'] == 'binary']['column'])\n",
    "column_time = list(df_cols_process[df_cols_process['data types'] == 'time']['column'])"
   ]
  },
  {
   "cell_type": "markdown",
   "id": "10e348cf",
   "metadata": {},
   "source": [
    "## Data Pre-processing"
   ]
  },
  {
   "cell_type": "markdown",
   "id": "7953738b",
   "metadata": {},
   "source": [
    "### Drop useless data types"
   ]
  },
  {
   "cell_type": "code",
   "execution_count": 8,
   "id": "e7bf936e",
   "metadata": {
    "ExecuteTime": {
     "end_time": "2023-01-15T20:05:00.098516Z",
     "start_time": "2023-01-15T20:05:00.067687Z"
    }
   },
   "outputs": [],
   "source": [
    "train_df_temp = train_df.drop('Id',axis = 1).copy()\n",
    "\n",
    "train_df_nominal = train_df_temp[column_nominal].copy()\n",
    "train_df_interval = train_df_temp[column_interval].copy()"
   ]
  },
  {
   "cell_type": "code",
   "execution_count": 9,
   "id": "60f57f88",
   "metadata": {
    "ExecuteTime": {
     "end_time": "2023-01-15T20:05:02.191491Z",
     "start_time": "2023-01-15T20:05:02.129260Z"
    }
   },
   "outputs": [],
   "source": [
    "col_major_missing = np.array(train_df_nominal.columns[train_df_nominal.isnull().sum()/train_df_nominal.shape[0] > 0.30])\n",
    "nominal_mode = train_df_nominal.mode().iloc[0]"
   ]
  },
  {
   "cell_type": "code",
   "execution_count": 10,
   "id": "ee685fbf",
   "metadata": {
    "ExecuteTime": {
     "end_time": "2023-01-15T20:05:59.694873Z",
     "start_time": "2023-01-15T20:05:59.602863Z"
    }
   },
   "outputs": [],
   "source": [
    "X_train, Y_train = X_preprocessing(train_df)"
   ]
  },
  {
   "cell_type": "markdown",
   "id": "b6d7887e",
   "metadata": {},
   "source": [
    "## Feature Scalling"
   ]
  },
  {
   "cell_type": "markdown",
   "id": "ded0479d",
   "metadata": {},
   "source": [
    "### Z-score"
   ]
  },
  {
   "cell_type": "code",
   "execution_count": 11,
   "id": "6e21a22f",
   "metadata": {
    "ExecuteTime": {
     "end_time": "2023-01-15T20:06:23.239926Z",
     "start_time": "2023-01-15T20:06:22.517035Z"
    }
   },
   "outputs": [],
   "source": [
    "from sklearn.preprocessing import StandardScaler"
   ]
  },
  {
   "cell_type": "code",
   "execution_count": 12,
   "id": "b45e9ce5",
   "metadata": {
    "ExecuteTime": {
     "end_time": "2023-01-15T20:06:52.475305Z",
     "start_time": "2023-01-15T20:06:52.431387Z"
    }
   },
   "outputs": [],
   "source": [
    "scaler = StandardScaler().fit(X_train)\n",
    "X_train_scale = scaler.transform(X_train)\n",
    "X_train_scale = pd.DataFrame(X_train_scale, columns = X_train.columns)"
   ]
  },
  {
   "cell_type": "markdown",
   "id": "bdc715f7",
   "metadata": {},
   "source": [
    "## Training Model"
   ]
  },
  {
   "cell_type": "markdown",
   "id": "0eb90ae5",
   "metadata": {},
   "source": [
    "### Linear Regression"
   ]
  },
  {
   "cell_type": "code",
   "execution_count": 13,
   "id": "44460557",
   "metadata": {
    "ExecuteTime": {
     "end_time": "2023-01-15T20:07:17.694193Z",
     "start_time": "2023-01-15T20:07:17.575454Z"
    }
   },
   "outputs": [],
   "source": [
    "from sklearn.linear_model import LinearRegression\n",
    "linear_model = LinearRegression()"
   ]
  },
  {
   "cell_type": "code",
   "execution_count": 14,
   "id": "a19fdfad",
   "metadata": {
    "ExecuteTime": {
     "end_time": "2023-01-15T20:07:17.759081Z",
     "start_time": "2023-01-15T20:07:17.695514Z"
    }
   },
   "outputs": [
    {
     "data": {
      "text/plain": [
       "LinearRegression()"
      ]
     },
     "execution_count": 14,
     "metadata": {},
     "output_type": "execute_result"
    }
   ],
   "source": [
    "X_train_arr = np.array(X_train_scale)\n",
    "linear_model.fit(X_train_arr, Y_train)"
   ]
  },
  {
   "cell_type": "code",
   "execution_count": 15,
   "id": "0a167475",
   "metadata": {
    "ExecuteTime": {
     "end_time": "2023-01-15T20:07:17.764810Z",
     "start_time": "2023-01-15T20:07:17.760211Z"
    }
   },
   "outputs": [],
   "source": [
    "Y_train_pred = linear_model.predict(X_train_arr)"
   ]
  },
  {
   "cell_type": "markdown",
   "id": "cd3216d2",
   "metadata": {},
   "source": [
    "### Random Forest Regressor"
   ]
  },
  {
   "cell_type": "code",
   "execution_count": 16,
   "id": "f5fc5159",
   "metadata": {
    "ExecuteTime": {
     "end_time": "2023-01-15T20:07:25.377707Z",
     "start_time": "2023-01-15T20:07:25.281570Z"
    }
   },
   "outputs": [],
   "source": [
    "from sklearn.ensemble import RandomForestRegressor"
   ]
  },
  {
   "cell_type": "code",
   "execution_count": 17,
   "id": "117a6efd",
   "metadata": {
    "ExecuteTime": {
     "end_time": "2023-01-15T20:07:28.756026Z",
     "start_time": "2023-01-15T20:07:26.412601Z"
    }
   },
   "outputs": [
    {
     "data": {
      "text/plain": [
       "RandomForestRegressor()"
      ]
     },
     "execution_count": 17,
     "metadata": {},
     "output_type": "execute_result"
    }
   ],
   "source": [
    "random_forest = RandomForestRegressor()\n",
    "random_forest.fit(X_train_arr, Y_train)"
   ]
  },
  {
   "cell_type": "code",
   "execution_count": 18,
   "id": "536efb2c",
   "metadata": {
    "ExecuteTime": {
     "end_time": "2023-01-15T20:07:28.809639Z",
     "start_time": "2023-01-15T20:07:28.757625Z"
    }
   },
   "outputs": [],
   "source": [
    "Y_train_pred = random_forest.predict(X_train_arr)"
   ]
  },
  {
   "cell_type": "markdown",
   "id": "808cd72e",
   "metadata": {},
   "source": [
    "## Root Mean Squared Error"
   ]
  },
  {
   "cell_type": "code",
   "execution_count": 19,
   "id": "02f97d5f",
   "metadata": {
    "ExecuteTime": {
     "end_time": "2023-01-15T20:07:31.781904Z",
     "start_time": "2023-01-15T20:07:31.777639Z"
    }
   },
   "outputs": [],
   "source": [
    "from sklearn.metrics import mean_squared_error\n",
    "import math"
   ]
  },
  {
   "cell_type": "code",
   "execution_count": 20,
   "id": "ac1fc551",
   "metadata": {
    "ExecuteTime": {
     "end_time": "2023-01-15T20:07:31.962781Z",
     "start_time": "2023-01-15T20:07:31.953328Z"
    }
   },
   "outputs": [],
   "source": [
    "train_eval_metrics = math.sqrt(mean_squared_error(Y_train_pred, Y_train))"
   ]
  },
  {
   "cell_type": "code",
   "execution_count": 21,
   "id": "70a4ec46",
   "metadata": {
    "ExecuteTime": {
     "end_time": "2023-01-15T20:07:32.144455Z",
     "start_time": "2023-01-15T20:07:32.135200Z"
    }
   },
   "outputs": [
    {
     "data": {
      "text/plain": [
       "11153.795874488806"
      ]
     },
     "execution_count": 21,
     "metadata": {},
     "output_type": "execute_result"
    }
   ],
   "source": [
    "train_eval_metrics"
   ]
  },
  {
   "cell_type": "markdown",
   "id": "9f7745a5",
   "metadata": {},
   "source": [
    "# Test Dataset"
   ]
  },
  {
   "cell_type": "code",
   "execution_count": 22,
   "id": "57010251",
   "metadata": {
    "ExecuteTime": {
     "end_time": "2023-01-15T20:07:55.631333Z",
     "start_time": "2023-01-15T20:07:55.587115Z"
    }
   },
   "outputs": [],
   "source": [
    "test_df = pd.read_csv('data/test.csv')"
   ]
  },
  {
   "cell_type": "code",
   "execution_count": 23,
   "id": "c9f30af3",
   "metadata": {
    "ExecuteTime": {
     "end_time": "2023-01-15T20:07:57.363499Z",
     "start_time": "2023-01-15T20:07:57.268984Z"
    }
   },
   "outputs": [
    {
     "name": "stdout",
     "output_type": "stream",
     "text": [
      "This is test dataset return only X...\n"
     ]
    }
   ],
   "source": [
    "X_test, y_test = X_preprocessing(test_df)"
   ]
  },
  {
   "cell_type": "markdown",
   "id": "8a9dfa48",
   "metadata": {},
   "source": [
    "## Adjust the column of train and test datasource"
   ]
  },
  {
   "cell_type": "code",
   "execution_count": 24,
   "id": "e9b8d68b",
   "metadata": {
    "ExecuteTime": {
     "end_time": "2023-01-15T20:08:01.143145Z",
     "start_time": "2023-01-15T20:08:01.128647Z"
    }
   },
   "outputs": [],
   "source": [
    "X_train_scale_final, X_test = X_train_scale.align(X_test, join = 'left', axis=1)"
   ]
  },
  {
   "cell_type": "markdown",
   "id": "4ef0a8eb",
   "metadata": {},
   "source": [
    "### Using z-scaler to transform it"
   ]
  },
  {
   "cell_type": "code",
   "execution_count": 25,
   "id": "92ba1be4",
   "metadata": {
    "ExecuteTime": {
     "end_time": "2023-01-15T20:08:04.392025Z",
     "start_time": "2023-01-15T20:08:04.362909Z"
    }
   },
   "outputs": [],
   "source": [
    "X_test_scale = scaler.transform(X_test)\n",
    "X_test_scale_final = pd.DataFrame(X_test_scale, columns= X_test.columns)\n",
    "\n",
    "X_test_scale_final = X_test_scale_final.fillna(0)"
   ]
  },
  {
   "cell_type": "code",
   "execution_count": 27,
   "id": "05a88d0d",
   "metadata": {
    "ExecuteTime": {
     "end_time": "2023-01-15T20:08:12.727315Z",
     "start_time": "2023-01-15T20:08:12.657148Z"
    }
   },
   "outputs": [],
   "source": [
    "Y_test_pred = random_forest.predict(np.array(X_test_scale_final))"
   ]
  },
  {
   "cell_type": "code",
   "execution_count": 28,
   "id": "4587fe18",
   "metadata": {
    "ExecuteTime": {
     "end_time": "2023-01-15T20:08:16.505068Z",
     "start_time": "2023-01-15T20:08:16.496415Z"
    }
   },
   "outputs": [],
   "source": [
    "df_submission = pd.DataFrame(Y_test_pred, index=range(1461, 2920))\n",
    "df_submission.columns = ['SalePrice']\n",
    "df_submission.index.name = 'Id'"
   ]
  },
  {
   "cell_type": "code",
   "execution_count": 29,
   "id": "d4a3d5c0",
   "metadata": {
    "ExecuteTime": {
     "end_time": "2023-01-15T20:08:19.425628Z",
     "start_time": "2023-01-15T20:08:19.404149Z"
    }
   },
   "outputs": [],
   "source": [
    "df_submission.to_csv('submission_15_january_2023.csv')"
   ]
  },
  {
   "cell_type": "markdown",
   "id": "4a0cab3e",
   "metadata": {},
   "source": [
    "# Resources"
   ]
  },
  {
   "cell_type": "markdown",
   "id": "a0477648",
   "metadata": {},
   "source": [
    "https://towardsdatascience.com/7-data-types-a-better-way-to-think-about-data-types-for-machine-learning-939fae99a689"
   ]
  },
  {
   "cell_type": "markdown",
   "id": "c6becf47",
   "metadata": {},
   "source": [
    "https://medium.com/analytics-vidhya/ways-to-handle-categorical-column-missing-data-its-implementations-15dc4a56893#:~:text=Step%201%3A%20Find%20which%20category,and%20keep%20newly%20imputed%20columns.&text=Advantage%3A%20Simple%20and%20easy%20to%20implement%20for%20categorical%20variables%2Fcolumns.\n",
    "\n"
   ]
  },
  {
   "cell_type": "markdown",
   "id": "25583935",
   "metadata": {},
   "source": [
    "https://stackoverflow.com/questions/62653114/how-can-i-deal-with-this-git-warning-pulling-without-specifying-how-to-reconci"
   ]
  }
 ],
 "metadata": {
  "kernelspec": {
   "display_name": "Python 3 (ipykernel)",
   "language": "python",
   "name": "python3"
  },
  "language_info": {
   "codemirror_mode": {
    "name": "ipython",
    "version": 3
   },
   "file_extension": ".py",
   "mimetype": "text/x-python",
   "name": "python",
   "nbconvert_exporter": "python",
   "pygments_lexer": "ipython3",
   "version": "3.8.11"
  },
  "toc": {
   "base_numbering": 1,
   "nav_menu": {},
   "number_sections": true,
   "sideBar": true,
   "skip_h1_title": false,
   "title_cell": "Table of Contents",
   "title_sidebar": "Contents",
   "toc_cell": false,
   "toc_position": {},
   "toc_section_display": true,
   "toc_window_display": false
  }
 },
 "nbformat": 4,
 "nbformat_minor": 5
}
